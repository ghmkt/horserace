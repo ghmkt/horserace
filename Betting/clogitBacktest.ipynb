{
 "cells": [
  {
   "cell_type": "markdown",
   "metadata": {},
   "source": [
    "# conditional logit\n",
    "- Import Module\n",
    "- read csv file"
   ]
  },
  {
   "cell_type": "code",
   "execution_count": null,
   "metadata": {},
   "outputs": [],
   "source": [
    "import random\n",
    "import pandas as pd\n",
    "import numpy as np\n",
    "from sklearn.model_selection import train_test_split\n",
    "import backtest as bt\n",
    "from matplotlib import pyplot as plt\n",
    "\n",
    "predictcsv = \"clogit_choice3.csv\"\n",
    "df = pd.read_csv(predictcsv, index_col = 0, encoding='utf-8')\n",
    "# print(df.columns)"
   ]
  },
  {
   "cell_type": "markdown",
   "metadata": {},
   "source": [
    "### 데이터 전처리\n",
    "- 빠른 연산을 위해 필요한 column만 선택\n",
    "- 결측치가 많은 게임은 제외\n",
    "- 게임별로 group을 나눔"
   ]
  },
  {
   "cell_type": "code",
   "execution_count": null,
   "metadata": {},
   "outputs": [],
   "source": [
    "col_list = ['rank','phat','dandivi','yeondivi','groupid','location']\n",
    "groupid = 'groupid'\n",
    "data, gb_data, total_data = bt.getData(df, col_list, groupid, min_size=10)"
   ]
  },
  {
   "cell_type": "markdown",
   "metadata": {},
   "source": [
    "## 단승식 정액 베팅\n",
    "- phat이 특정 값 이상일 때만 베팅\n",
    "- minimum phat을 0, 0.15, 0.2, 0.25으로 설정\n",
    "- 까다롭게 설정할수록 맞출 확률이 높다"
   ]
  },
  {
   "cell_type": "code",
   "execution_count": null,
   "metadata": {},
   "outputs": [],
   "source": [
    "betting_money = 10000\n",
    "start_money = 2000000\n",
    "min_phat_list = [0, 0.15, 0.2, 0.25]\n",
    "plt.figure(1)\n",
    "for m in min_phat_list:\n",
    "    ongoing, cnt, get, moneylist = bt.dan_bet(betting_money, start_money,total_data,\\\n",
    "                                            'phat',min_pred=m)\n",
    "    print('파일 크기:',len(data))\n",
    "    print('전체 게임:',len(gb_data))\n",
    "    print('테스트 게임:',len(total_data))\n",
    "    print('phat의 최솟값:', m)\n",
    "    print('베팅한 게임:',cnt)\n",
    "    print('예측 성공한 게임:',get)\n",
    "    print('최종 금액:',moneylist[-1])\n",
    "    \n",
    "    %matplotlib inline\n",
    "    plt.plot(moneylist)\n",
    "    plt.show()\n"
   ]
  },
  {
   "cell_type": "markdown",
   "metadata": {},
   "source": [
    "## 연승식 정액 베팅\n",
    "- phat이 특정 값 이상일 때만 베팅\n",
    "- minimum phat을 0, 0.15, 0.2, 0.25으로 설정\n",
    "- 까다롭게 설정할수록 맞출 확률이 높다\n",
    "- 켈리베팅을 위해 minimum phat별 정답률 측정!\n",
    "\n",
    "---\n",
    "1. phat 0.0 ~ 0.15 : 47.6% : 21개  중 10개\n",
    "2. phat 0.15 ~ 0.2 : 55.9% : 460개 중 257개\n",
    "3. phat 0.2 ~ 0.25 : 70.1% : 391개 중 274개 \n",
    "4. phat 0.25 ~ 1.0 : 81.3% : 123개 중 100개 "
   ]
  },
  {
   "cell_type": "code",
   "execution_count": null,
   "metadata": {},
   "outputs": [],
   "source": [
    "for m in min_phat_list:\n",
    "    ongoing, cnt, get, moneylist = bt.yeon_bet(betting_money, start_money,total_data,\\\n",
    "                                             'phat',min_pred=m)\n",
    "\n",
    "    print('파일 크기:',len(data))\n",
    "    print('전체 게임:',len(gb_data))\n",
    "    print('테스트 게임:',len(total_data))\n",
    "    print('베팅한 게임:',cnt)\n",
    "    print('예측 성공한 게임:',get)\n",
    "    print('최종 금액:',moneylist[-1])\n",
    "\n",
    "    %matplotlib inline\n",
    "    from matplotlib import pyplot as plt\n",
    "    plt.plot(moneylist)\n",
    "    plt.show()\n"
   ]
  },
  {
   "cell_type": "markdown",
   "metadata": {},
   "source": [
    "## 켈리 베팅 단승\n",
    "- 배당률이 높고, 정보 우위가 확실할 때 베팅!\n",
    "- 유일하게 돈을 딴다"
   ]
  },
  {
   "cell_type": "code",
   "execution_count": null,
   "metadata": {},
   "outputs": [],
   "source": [
    "ongoing, cnt, get, moneylist = bt.kelly_dan_bet(betting_money, start_money,total_data,\\\n",
    "                                            'phat',min_pred=0)\n",
    "print('파일 크기:',len(data))\n",
    "print('전체 게임:',len(gb_data))\n",
    "print('테스트 게임:',len(total_data))\n",
    "print('베팅한 게임:',cnt)\n",
    "print('예측 성공한 게임:',get)\n",
    "print('최종 금액:',moneylist[-1])\n",
    "\n",
    "%matplotlib inline\n",
    "plt.plot(moneylist)\n",
    "plt.show()\n"
   ]
  },
  {
   "cell_type": "markdown",
   "metadata": {},
   "source": [
    "## 켈리 베팅 단승 \n",
    "- phat 상위 3개 말 모두 betting 가능성 열어둔다.\n",
    "- 결과적으로 초반에 큰 손실로 인해 돈을 못 딴다."
   ]
  },
  {
   "cell_type": "code",
   "execution_count": null,
   "metadata": {},
   "outputs": [],
   "source": [
    "ongoing, cnt, get, moneylist = bt.kelly_dan3_bet(betting_money, start_money,total_data,\\\n",
    "                                            'phat',min_pred=0)\n",
    "print('파일 크기:',len(data))\n",
    "print('전체 게임:',len(gb_data))\n",
    "print('테스트 게임:',len(total_data))\n",
    "print('베팅한 횟수:',cnt)\n",
    "print('예측 성공한 횟수:',get)\n",
    "print('최종 금액:',moneylist[-1])\n",
    "\n",
    "%matplotlib inline\n",
    "plt.plot(moneylist)\n",
    "plt.show()"
   ]
  },
  {
   "cell_type": "markdown",
   "metadata": {},
   "source": [
    "## 켈리 베팅 연승\n",
    "- 연승의 정답율을 구하기 귀찮다."
   ]
  },
  {
   "cell_type": "code",
   "execution_count": null,
   "metadata": {},
   "outputs": [],
   "source": [
    "ongoing, cnt, get, moneylist = bt.kelly_yeon_bet(betting_money, start_money,total_data,\\\n",
    "                                            'phat',min_pred=0)\n",
    "print('파일 크기:',len(data))\n",
    "print('전체 게임:',len(gb_data))\n",
    "print('테스트 게임:',len(total_data))\n",
    "print('베팅한 게임:',cnt)\n",
    "print('예측 성공한 게임:',get)\n",
    "print('최종 금액:',moneylist[-1])\n",
    "\n",
    "%matplotlib inline\n",
    "plt.plot(moneylist)\n",
    "plt.show()\n"
   ]
  },
  {
   "cell_type": "markdown",
   "metadata": {},
   "source": [
    "## 켈리 베팅 연승\n",
    "- phat 상위 3개 말 모두 check\n",
    "- 연승 배당율이 너무 낮아서 베팅을 하지 않는다."
   ]
  },
  {
   "cell_type": "code",
   "execution_count": null,
   "metadata": {},
   "outputs": [],
   "source": [
    "ongoing, cnt, get, moneylist = bt.kelly_yeon3_bet(betting_money, start_money,total_data,\\\n",
    "                                            'phat',min_pred=0)\n",
    "print('파일 크기:',len(data))\n",
    "print('전체 게임:',len(gb_data))\n",
    "print('테스트 게임:',len(total_data))\n",
    "print('베팅한 횟수:',cnt)\n",
    "print('예측 성공한 횟수:',get)\n",
    "print('최종 금액:',moneylist[-1])\n",
    "\n",
    "%matplotlib inline\n",
    "plt.plot(moneylist)\n",
    "plt.show()\n"
   ]
  }
 ],
 "metadata": {
  "kernelspec": {
   "display_name": "Python 3",
   "language": "python",
   "name": "python3"
  },
  "language_info": {
   "codemirror_mode": {
    "name": "ipython",
    "version": 3
   },
   "file_extension": ".py",
   "mimetype": "text/x-python",
   "name": "python",
   "nbconvert_exporter": "python",
   "pygments_lexer": "ipython3",
   "version": "3.7.0"
  }
 },
 "nbformat": 4,
 "nbformat_minor": 2
}
