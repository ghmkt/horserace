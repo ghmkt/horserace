{
 "cells": [
  {
   "cell_type": "markdown",
   "metadata": {},
   "source": [
    "### XGBoost 돌리고, parameter들 최적화하는 과정"
   ]
  },
  {
   "cell_type": "markdown",
   "metadata": {},
   "source": [
    "#### XGBoost 참고자료들\n",
    "##### 1. 논문: https://arxiv.org/abs/1603.02754\n",
    "##### 2. 공식문서: https://xgboost.readthedocs.io/en/latest/\n",
    "##### 3. https://brunch.co.kr/@snobberys/137\n",
    "##### 4. https://xgboost.readthedocs.io/en/latest/\n",
    "##### 5. https://blog.naver.com/ydj9398/221403852142\n",
    "##### 6. http://jetzt.tistory.com/1041"
   ]
  },
  {
   "cell_type": "markdown",
   "metadata": {},
   "source": [
    "###### XGBoost란\n",
    "##### 약한 예측 모형을 결합하여 강한 예측모형을 만드는 Boosting 기법의 일종\n",
    "##### Boosting 기법 예시\n",
    "###### 어떤 예측 모형 M이 Y를 예측할 확률: Y = M(x) + error(1)\n",
    "###### error(1)을 더 분류할 수 있는 예측 모형 G: error(1) = G(x) + error(2)\n",
    "###### error(2)를 더 분류할 수 있는 예측 모형 H: error(2) = H(x) + error(3)\n",
    "###### 각각의 예측모형에 가중치를 두면 더 좋은 예측 모형이 됨 -> 최종: Y = aM(x) + bG(x) + cH(x) + error(4)\n",
    "##### XGBoost는 CART(Classification And Regression Tree)라는 앙상블 기법을 활용하여 각각의 예측 모형과 가중치를 계산함\n",
    "###### XGBoost가 일반적인 의사결정나무(Decision Tree)와 다른점이 CART 기법임. 일반적인 의사결정나무는 트리가 분류를 제대로 했는지에만 관심이 있지만, XGBoost의 CART 기법은 각각의 노드에서 Accuracy Score이 계산되어 최종 Score에 영향을 미치므로 같은 분류이더라도 최종 Score에 따라 모델의 우위를 비교할 수 있음. \n",
    "-> 참고자료 3번의 그림 활용하면 더 쉽게 설명 가능할듯 한데, jupyter에 그림을 어떻게 넣죠....ㅜㅜ"
   ]
  },
  {
   "cell_type": "code",
   "execution_count": 2,
   "metadata": {},
   "outputs": [],
   "source": [
    "# 필요한 라이브러리 import\n",
    "import numpy as np\n",
    "import pandas as pd\n",
    "import xgboost as xgb\n",
    "import matplotlib.pyplot as plt"
   ]
  },
  {
   "cell_type": "code",
   "execution_count": 3,
   "metadata": {},
   "outputs": [],
   "source": [
    "# merged set 읽기\n",
    "merged = pd.read_csv(r'C:\\Users\\po031\\Desktop\\merged.csv', encoding = 'utf-8')"
   ]
  },
  {
   "cell_type": "code",
   "execution_count": 4,
   "metadata": {
    "scrolled": true
   },
   "outputs": [
    {
     "data": {
      "text/plain": [
       "Index(['Unnamed: 0', 'date', 'round', 'code', 'distance_x', 'record_x', 'rank',\n",
       "       'horse_level_num', 'velocity', 'prev1_rank', 'prev2_rank', 'prev3_rank',\n",
       "       'prev1_velo', 'prev2_velo', 'prev3_velo', 'avg_vel', 'adj_vel',\n",
       "       'prev1_adjvelo', 'prev2_adjvelo', 'prev3_adjvelo', 'prev_avgvel2',\n",
       "       'prev_avgrank2', 'failsin2', 'nodata', 'record_y', 'year', 'month',\n",
       "       'location', 'weather', 'distance_y', 'lane', 'humidity',\n",
       "       'humidity_dummy', 'sex', 'age', 'raw_weight', 'jockey_w', 'weight_diff',\n",
       "       'weight_total', 'dandivi', 'yeondivi'],\n",
       "      dtype='object')"
      ]
     },
     "execution_count": 4,
     "metadata": {},
     "output_type": "execute_result"
    }
   ],
   "source": [
    "# column 보기\n",
    "merged.columns"
   ]
  },
  {
   "cell_type": "code",
   "execution_count": 5,
   "metadata": {},
   "outputs": [],
   "source": [
    "# groupid column을 만들기 위해 location이 nan인 행 제거 후, date와 round 별로 정렬\n",
    "merged = merged[merged['location'].notnull()]\n",
    "merged = merged.sort_values(by = ['date', 'round'])\n",
    "del merged['Unnamed: 0']"
   ]
  },
  {
   "cell_type": "code",
   "execution_count": 6,
   "metadata": {},
   "outputs": [],
   "source": [
    "# 경기별로 분류하기 위해 date, round, location column을 활용하여 groupid column 추가\n",
    "merged['groupid'] = merged['date'].apply(str) + merged['round'].apply(str) + merged['location'].apply(str)\n",
    "idset = list(set(merged['groupid']))\n",
    "give_ids = dict(list(zip(idset, list(range(len(idset))))))\n",
    "merged['groupid'] = merged['groupid'].apply(lambda x: give_ids[x])"
   ]
  },
  {
   "cell_type": "code",
   "execution_count": 7,
   "metadata": {},
   "outputs": [],
   "source": [
    "# train과 test set으로 나누기\n",
    "# 서울 지역의 경기에만 베팅하므로 test set은 location이 0인 것만 활용\n",
    "# train/test 1은 근 1년에 베팅하는 모델이며, train/test2는 근 6개월에 베팅하는 모델임\n",
    "merged_train1 = merged[merged['date'] < 20170901]\n",
    "merged_test1 = merged[merged['date'] > 20170831]\n",
    "merged_test1 = merged_test1[merged_test1['date'] < 20181001]\n",
    "merged_test1 = merged_test1[merged_test1['location'] == 0]\n",
    "merged_train2 = merged[merged['date'] < 20180301]\n",
    "merged_test2 = merged[merged['date'] > 20180229]\n",
    "merged_test2 = merged_test2[merged_test2['date'] < 20181001]\n",
    "merged_test2 = merged_test2[merged_test2['location'] == 0]"
   ]
  },
  {
   "cell_type": "markdown",
   "metadata": {},
   "source": [
    "### train/test1을 최적화하는 과정"
   ]
  },
  {
   "cell_type": "markdown",
   "metadata": {},
   "source": [
    "#### XGBoost 최적화 과정 및 parameter 설명: https://www.analyticsvidhya.com/blog/2016/03/complete-guide-parameter-tuning-xgboost-with-codes-python/\n",
    "\n",
    "##### max_depth: 트리의 최대 깊이로,클수록 over-fitting 될 수 있음\n",
    "##### min_child_weight: 가중치를 합한 것의 최소값으로, 클수록 under-fitting 될 수 있음\n",
    "##### gamma: 가지치기 여부를 결정하는 parameter\n",
    "##### subsample: 가지치기 할 때마다 관측할 샘플링 비율로, 클수록 over-fitting 될 수 있음\n",
    "##### colsample_bytree: 가지치기 할 때마다 관측할 feature 비율\n",
    "##### num_round: 가지치기한 횟수로, 클수록 over-fitting 될 수 있음"
   ]
  },
  {
   "cell_type": "code",
   "execution_count": 8,
   "metadata": {},
   "outputs": [],
   "source": [
    "# 필요한 변수만 뽑아서 train set 만들기\n",
    "train1 = pd.DataFrame()\n",
    "train1['record'] = merged_train1['record_x']\n",
    "train1['code'] = merged_train1['code']\n",
    "train1['group_id'] = merged_train1['groupid']\n",
    "train1['year'] = merged_train1['year']\n",
    "train1['month'] = merged_train1['month']\n",
    "train1['location'] = merged_train1['location']\n",
    "train1['weather'] = merged_train1['weather']\n",
    "train1['distance'] = merged_train1['distance_x']\n",
    "train1['round'] = merged_train1['round']\n",
    "train1['lane'] = merged_train1['lane']\n",
    "train1['humidity'] = merged_train1['humidity']\n",
    "train1['humidity_dummy'] = merged_train1['humidity_dummy']\n",
    "train1['sex'] = merged_train1['sex']\n",
    "train1['age'] = merged_train1['age']\n",
    "train1['raw_weight'] = merged_train1['raw_weight']\n",
    "train1['jockey_w'] = merged_train1['jockey_w']\n",
    "train1['weight_diff'] = merged_train1['weight_diff']\n",
    "train1['weight_total'] = merged_train1['weight_total']\n",
    "train1['rating'] = merged_train1['horse_level_num']\n",
    "train1['dandivi'] = merged_train1['dandivi']\n",
    "train1['yeondivi'] = merged_train1['yeondivi']"
   ]
  },
  {
   "cell_type": "code",
   "execution_count": 9,
   "metadata": {},
   "outputs": [],
   "source": [
    "# 필요한 변수만 뽑아서 test set 만들기\n",
    "test1 = pd.DataFrame()\n",
    "test1['record'] = merged_test1['record_x']\n",
    "test1['code'] = merged_test1['code']\n",
    "test1['group_id'] = merged_test1['groupid']\n",
    "test1['year'] = merged_test1['year']\n",
    "test1['month'] = merged_test1['month']\n",
    "test1['location'] = merged_test1['location']\n",
    "test1['weather'] = merged_test1['weather']\n",
    "test1['distance'] = merged_test1['distance_x']\n",
    "test1['round'] = merged_test1['round']\n",
    "test1['lane'] = merged_test1['lane']\n",
    "test1['humidity'] = merged_test1['humidity']\n",
    "test1['humidity_dummy'] = merged_test1['humidity_dummy']\n",
    "test1['sex'] = merged_test1['sex']\n",
    "test1['age'] = merged_test1['age']\n",
    "test1['raw_weight'] = merged_test1['raw_weight']\n",
    "test1['jockey_w'] = merged_test1['jockey_w']\n",
    "test1['weight_diff'] = merged_test1['weight_diff']\n",
    "test1['weight_total'] = merged_test1['weight_total']\n",
    "test1['rating'] = merged_test1['horse_level_num']\n",
    "test1['dandivi'] = merged_test1['dandivi']\n",
    "test1['yeondivi'] = merged_test1['yeondivi']"
   ]
  },
  {
   "cell_type": "code",
   "execution_count": 10,
   "metadata": {},
   "outputs": [],
   "source": [
    "# XGBoost의 feature 지정(record에 영향을 미치는 변수들)\n",
    "features = ['year', 'month', 'location', 'weather', 'distance', 'round', 'lane', 'humidity', 'humidity_dummy', 'sex', 'age',\n",
    "            'raw_weight', 'jockey_w', 'weight_diff', 'weight_total', 'rating', 'dandivi', 'yeondivi']"
   ]
  },
  {
   "cell_type": "code",
   "execution_count": 11,
   "metadata": {},
   "outputs": [],
   "source": [
    "# train, test dataframe을 array로 바꾸기\n",
    "train_array = train1.as_matrix()\n",
    "test_array = test1.as_matrix()\n",
    "    \n",
    "# 종속변수인 record time을 따로 떼어줌\n",
    "real1 = train_array[:,0]; real2 = test_array[:,0]\n",
    "    \n",
    "# xgb에서 쓸 수 있도록 자료형 변경\n",
    "xgb_train = xgb.DMatrix(train_array[:,3:], label = real1, feature_names = features) \n",
    "xgb_test = xgb.DMatrix(test_array[:,3:], label = real2, feature_names = features)"
   ]
  },
  {
   "cell_type": "code",
   "execution_count": 93,
   "metadata": {},
   "outputs": [
    {
     "name": "stdout",
     "output_type": "stream",
     "text": [
      "max_depth: 3, train_error: 1.0608801255547087, test_error: 1.1637264458090906\n",
      "max_depth: 4, train_error: 1.0267511620739127, test_error: 1.142890546930068\n",
      "max_depth: 5, train_error: 0.991349941985166, test_error: 1.1711177595049445\n",
      "max_depth: 6, train_error: 0.9462642702551433, test_error: 1.1536350626875835\n",
      "max_depth: 7, train_error: 0.8960903946548735, test_error: 1.169552555901795\n"
     ]
    }
   ],
   "source": [
    "# XGBoost sample1(max_depth 구하기) 만들기\n",
    "for i in range(3, 8):\n",
    "    xgb1 = xgb.XGBClassifier(learning_rate=0.1,\n",
    "                             n_estimators=1000, \n",
    "                             max_depth=i,\n",
    "                             min_child_weight=1,\n",
    "                             gamma=0.1,\n",
    "                             subsample=0.8,\n",
    "                             colsample_bytree=0.8,\n",
    "                             objective= 'reg:linear',\n",
    "                             scale_pos_weight=1,\n",
    "                             seed=27)\n",
    "    xgb1_param = xgb1.get_xgb_params()\n",
    "    \n",
    "    # train & test\n",
    "    num_round = 200\n",
    "    bst = xgb.train(xgb1_param, xgb_train, num_round) # 훈련\n",
    "    pred1 = bst.predict(xgb_train) # 예측\n",
    "    pred2 = bst.predict(xgb_test) # 예측\n",
    "        \n",
    "    # Mean Absolute Error 출력\n",
    "    print('max_depth: {0}, train_error: {1}, test_error: {2}'.format(i, abs(pred1-real1).mean(), abs(pred2-real2).mean()))"
   ]
  },
  {
   "cell_type": "code",
   "execution_count": 95,
   "metadata": {},
   "outputs": [
    {
     "name": "stdout",
     "output_type": "stream",
     "text": [
      "min_child_weight: 1, train_error: 1.0267511620739127, test_error: 1.142890546930068\n",
      "min_child_weight: 2, train_error: 1.0314119249389169, test_error: 1.1436198909586213\n"
     ]
    }
   ],
   "source": [
    "# XGBoost sample2(min_child_weight 구하기) 만들기\n",
    "for i in range(1, 3):\n",
    "    xgb2 = xgb.XGBClassifier(learning_rate=0.1,\n",
    "                             n_estimators=1000, \n",
    "                             max_depth=4,\n",
    "                             min_child_weight=i,\n",
    "                             gamma=0.1,\n",
    "                             subsample=0.8,\n",
    "                             colsample_bytree=0.8,\n",
    "                             objective= 'reg:linear',\n",
    "                             scale_pos_weight=1,\n",
    "                             seed=27)\n",
    "    xgb2_param = xgb2.get_xgb_params()\n",
    "    \n",
    "    # train & test\n",
    "    num_round = 200\n",
    "    bst = xgb.train(xgb2_param, xgb_train, num_round) # 훈련\n",
    "    pred1 = bst.predict(xgb_train) # 예측\n",
    "    pred2 = bst.predict(xgb_test) # 예측\n",
    "        \n",
    "    # Mean Absolute Error 출력\n",
    "    print('min_child_weight: {0}, train_error: {1}, test_error: {2}'.format(i, abs(pred1-real1).mean(), abs(pred2-real2).mean()))"
   ]
  },
  {
   "cell_type": "code",
   "execution_count": 96,
   "metadata": {},
   "outputs": [
    {
     "name": "stdout",
     "output_type": "stream",
     "text": [
      "gamma: 0, train_error: 1.0267511620739127, test_error: 1.142890546930068\n",
      "gamma: 1, train_error: 1.0267511620739127, test_error: 1.142890546930068\n",
      "gamma: 2, train_error: 1.026596341545564, test_error: 1.1430147467120384\n",
      "gamma: 3, train_error: 1.026596341545564, test_error: 1.1430147467120384\n",
      "gamma: 4, train_error: 1.026596341545564, test_error: 1.1430147467120384\n"
     ]
    }
   ],
   "source": [
    "# XGBoost sample3(gamma 구하기) 만들기\n",
    "for i in range(0, 5):\n",
    "    xgb3 = xgb.XGBClassifier(learning_rate=0.1,\n",
    "                             n_estimators=1000, \n",
    "                             max_depth=4,\n",
    "                             min_child_weight=1,\n",
    "                             gamma=i/10,\n",
    "                             subsample=0.8,\n",
    "                             colsample_bytree=0.8,\n",
    "                             objective= 'reg:linear',\n",
    "                             scale_pos_weight=1,\n",
    "                             seed=27)\n",
    "    xgb3_param = xgb3.get_xgb_params()\n",
    "    \n",
    "    # train & test\n",
    "    num_round = 200\n",
    "    bst = xgb.train(xgb3_param, xgb_train, num_round) # 훈련\n",
    "    pred1 = bst.predict(xgb_train) # 예측\n",
    "    pred2 = bst.predict(xgb_test) # 예측\n",
    "        \n",
    "    # Mean Absolute Error 출력\n",
    "    print('gamma: {0}, train_error: {1}, test_error: {2}'.format(i, abs(pred1-real1).mean(), abs(pred2-real2).mean()))"
   ]
  },
  {
   "cell_type": "code",
   "execution_count": 102,
   "metadata": {},
   "outputs": [
    {
     "name": "stdout",
     "output_type": "stream",
     "text": [
      "subsample: 73, train_error: 0.9448443168106067, test_error: 1.0484641998800541\n",
      "subsample: 74, train_error: 0.9417482353594276, test_error: 1.0545772033779595\n",
      "subsample: 75, train_error: 0.9460561340980773, test_error: 1.0352631526499352\n"
     ]
    },
    {
     "ename": "KeyboardInterrupt",
     "evalue": "",
     "output_type": "error",
     "traceback": [
      "\u001b[1;31m---------------------------------------------------------------------------\u001b[0m",
      "\u001b[1;31mKeyboardInterrupt\u001b[0m                         Traceback (most recent call last)",
      "\u001b[1;32m<ipython-input-102-f58617654930>\u001b[0m in \u001b[0;36m<module>\u001b[1;34m()\u001b[0m\n\u001b[0;32m     15\u001b[0m     \u001b[1;31m# train & test\u001b[0m\u001b[1;33m\u001b[0m\u001b[1;33m\u001b[0m\u001b[0m\n\u001b[0;32m     16\u001b[0m     \u001b[0mnum_round\u001b[0m \u001b[1;33m=\u001b[0m \u001b[1;36m200\u001b[0m\u001b[1;33m\u001b[0m\u001b[0m\n\u001b[1;32m---> 17\u001b[1;33m     \u001b[0mbst\u001b[0m \u001b[1;33m=\u001b[0m \u001b[0mxgb\u001b[0m\u001b[1;33m.\u001b[0m\u001b[0mtrain\u001b[0m\u001b[1;33m(\u001b[0m\u001b[0mxgb4_param\u001b[0m\u001b[1;33m,\u001b[0m \u001b[0mxgb_train\u001b[0m\u001b[1;33m,\u001b[0m \u001b[0mnum_round\u001b[0m\u001b[1;33m)\u001b[0m \u001b[1;31m# train\u001b[0m\u001b[1;33m\u001b[0m\u001b[0m\n\u001b[0m\u001b[0;32m     18\u001b[0m     \u001b[0mpred1\u001b[0m \u001b[1;33m=\u001b[0m \u001b[0mbst\u001b[0m\u001b[1;33m.\u001b[0m\u001b[0mpredict\u001b[0m\u001b[1;33m(\u001b[0m\u001b[0mxgb_train\u001b[0m\u001b[1;33m)\u001b[0m \u001b[1;31m# test\u001b[0m\u001b[1;33m\u001b[0m\u001b[0m\n\u001b[0;32m     19\u001b[0m     \u001b[0mpred2\u001b[0m \u001b[1;33m=\u001b[0m \u001b[0mbst\u001b[0m\u001b[1;33m.\u001b[0m\u001b[0mpredict\u001b[0m\u001b[1;33m(\u001b[0m\u001b[0mxgb_test\u001b[0m\u001b[1;33m)\u001b[0m\u001b[1;33m\u001b[0m\u001b[0m\n",
      "\u001b[1;32mC:\\ProgramData\\Anaconda3\\lib\\site-packages\\xgboost\\training.py\u001b[0m in \u001b[0;36mtrain\u001b[1;34m(params, dtrain, num_boost_round, evals, obj, feval, maximize, early_stopping_rounds, evals_result, verbose_eval, xgb_model, callbacks, learning_rates)\u001b[0m\n\u001b[0;32m    214\u001b[0m                            \u001b[0mevals\u001b[0m\u001b[1;33m=\u001b[0m\u001b[0mevals\u001b[0m\u001b[1;33m,\u001b[0m\u001b[1;33m\u001b[0m\u001b[0m\n\u001b[0;32m    215\u001b[0m                            \u001b[0mobj\u001b[0m\u001b[1;33m=\u001b[0m\u001b[0mobj\u001b[0m\u001b[1;33m,\u001b[0m \u001b[0mfeval\u001b[0m\u001b[1;33m=\u001b[0m\u001b[0mfeval\u001b[0m\u001b[1;33m,\u001b[0m\u001b[1;33m\u001b[0m\u001b[0m\n\u001b[1;32m--> 216\u001b[1;33m                            xgb_model=xgb_model, callbacks=callbacks)\n\u001b[0m\u001b[0;32m    217\u001b[0m \u001b[1;33m\u001b[0m\u001b[0m\n\u001b[0;32m    218\u001b[0m \u001b[1;33m\u001b[0m\u001b[0m\n",
      "\u001b[1;32mC:\\ProgramData\\Anaconda3\\lib\\site-packages\\xgboost\\training.py\u001b[0m in \u001b[0;36m_train_internal\u001b[1;34m(params, dtrain, num_boost_round, evals, obj, feval, xgb_model, callbacks)\u001b[0m\n\u001b[0;32m     72\u001b[0m         \u001b[1;31m# Skip the first update if it is a recovery step.\u001b[0m\u001b[1;33m\u001b[0m\u001b[1;33m\u001b[0m\u001b[0m\n\u001b[0;32m     73\u001b[0m         \u001b[1;32mif\u001b[0m \u001b[0mversion\u001b[0m \u001b[1;33m%\u001b[0m \u001b[1;36m2\u001b[0m \u001b[1;33m==\u001b[0m \u001b[1;36m0\u001b[0m\u001b[1;33m:\u001b[0m\u001b[1;33m\u001b[0m\u001b[0m\n\u001b[1;32m---> 74\u001b[1;33m             \u001b[0mbst\u001b[0m\u001b[1;33m.\u001b[0m\u001b[0mupdate\u001b[0m\u001b[1;33m(\u001b[0m\u001b[0mdtrain\u001b[0m\u001b[1;33m,\u001b[0m \u001b[0mi\u001b[0m\u001b[1;33m,\u001b[0m \u001b[0mobj\u001b[0m\u001b[1;33m)\u001b[0m\u001b[1;33m\u001b[0m\u001b[0m\n\u001b[0m\u001b[0;32m     75\u001b[0m             \u001b[0mbst\u001b[0m\u001b[1;33m.\u001b[0m\u001b[0msave_rabit_checkpoint\u001b[0m\u001b[1;33m(\u001b[0m\u001b[1;33m)\u001b[0m\u001b[1;33m\u001b[0m\u001b[0m\n\u001b[0;32m     76\u001b[0m             \u001b[0mversion\u001b[0m \u001b[1;33m+=\u001b[0m \u001b[1;36m1\u001b[0m\u001b[1;33m\u001b[0m\u001b[0m\n",
      "\u001b[1;32mC:\\ProgramData\\Anaconda3\\lib\\site-packages\\xgboost\\core.py\u001b[0m in \u001b[0;36mupdate\u001b[1;34m(self, dtrain, iteration, fobj)\u001b[0m\n\u001b[0;32m   1043\u001b[0m         \u001b[1;32mif\u001b[0m \u001b[0mfobj\u001b[0m \u001b[1;32mis\u001b[0m \u001b[1;32mNone\u001b[0m\u001b[1;33m:\u001b[0m\u001b[1;33m\u001b[0m\u001b[0m\n\u001b[0;32m   1044\u001b[0m             _check_call(_LIB.XGBoosterUpdateOneIter(self.handle, ctypes.c_int(iteration),\n\u001b[1;32m-> 1045\u001b[1;33m                                                     dtrain.handle))\n\u001b[0m\u001b[0;32m   1046\u001b[0m         \u001b[1;32melse\u001b[0m\u001b[1;33m:\u001b[0m\u001b[1;33m\u001b[0m\u001b[0m\n\u001b[0;32m   1047\u001b[0m             \u001b[0mpred\u001b[0m \u001b[1;33m=\u001b[0m \u001b[0mself\u001b[0m\u001b[1;33m.\u001b[0m\u001b[0mpredict\u001b[0m\u001b[1;33m(\u001b[0m\u001b[0mdtrain\u001b[0m\u001b[1;33m)\u001b[0m\u001b[1;33m\u001b[0m\u001b[0m\n",
      "\u001b[1;31mKeyboardInterrupt\u001b[0m: "
     ]
    }
   ],
   "source": [
    "# XGBoost sample4(subsample 구하기) 만들기\n",
    "for i in range(73, 78):\n",
    "    xgb4 = xgb.XGBClassifier(learning_rate=0.1,\n",
    "                             n_estimators=1000, \n",
    "                             max_depth=4,\n",
    "                             min_child_weight=1,\n",
    "                             gamma=0.1,\n",
    "                             subsample=i/100,\n",
    "                             colsample_bytree=1,\n",
    "                             objective= 'reg:linear',\n",
    "                             scale_pos_weight=1,\n",
    "                             seed=27)\n",
    "    xgb4_param = xgb4.get_xgb_params()\n",
    "    \n",
    "    # train & test\n",
    "    num_round = 200\n",
    "    bst = xgb.train(xgb4_param, xgb_train, num_round) # 훈련\n",
    "    pred1 = bst.predict(xgb_train) # 예측\n",
    "    pred2 = bst.predict(xgb_test) # 예측\n",
    "        \n",
    "    # Mean Absolute Error 출력\n",
    "    print('subsample: {0}, train_error: {1}, test_error: {2}'.format(i, abs(pred1-real1).mean(), abs(pred2-real2).mean()))"
   ]
  },
  {
   "cell_type": "code",
   "execution_count": 103,
   "metadata": {},
   "outputs": [
    {
     "name": "stdout",
     "output_type": "stream",
     "text": [
      "colsample_bytree: 95, train_error: 0.9501763708680186, test_error: 1.0390681014625156\n",
      "colsample_bytree: 96, train_error: 0.9501763708680186, test_error: 1.0390681014625156\n",
      "colsample_bytree: 97, train_error: 0.9501763708680186, test_error: 1.0390681014625156\n"
     ]
    },
    {
     "ename": "KeyboardInterrupt",
     "evalue": "",
     "output_type": "error",
     "traceback": [
      "\u001b[1;31m---------------------------------------------------------------------------\u001b[0m",
      "\u001b[1;31mKeyboardInterrupt\u001b[0m                         Traceback (most recent call last)",
      "\u001b[1;32m<ipython-input-103-8ed3644a2c75>\u001b[0m in \u001b[0;36m<module>\u001b[1;34m()\u001b[0m\n\u001b[0;32m     15\u001b[0m     \u001b[1;31m# train & test\u001b[0m\u001b[1;33m\u001b[0m\u001b[1;33m\u001b[0m\u001b[0m\n\u001b[0;32m     16\u001b[0m     \u001b[0mnum_round\u001b[0m \u001b[1;33m=\u001b[0m \u001b[1;36m200\u001b[0m\u001b[1;33m\u001b[0m\u001b[0m\n\u001b[1;32m---> 17\u001b[1;33m     \u001b[0mbst\u001b[0m \u001b[1;33m=\u001b[0m \u001b[0mxgb\u001b[0m\u001b[1;33m.\u001b[0m\u001b[0mtrain\u001b[0m\u001b[1;33m(\u001b[0m\u001b[0mxgb5_param\u001b[0m\u001b[1;33m,\u001b[0m \u001b[0mxgb_train\u001b[0m\u001b[1;33m,\u001b[0m \u001b[0mnum_round\u001b[0m\u001b[1;33m)\u001b[0m \u001b[1;31m# train\u001b[0m\u001b[1;33m\u001b[0m\u001b[0m\n\u001b[0m\u001b[0;32m     18\u001b[0m     \u001b[0mpred1\u001b[0m \u001b[1;33m=\u001b[0m \u001b[0mbst\u001b[0m\u001b[1;33m.\u001b[0m\u001b[0mpredict\u001b[0m\u001b[1;33m(\u001b[0m\u001b[0mxgb_train\u001b[0m\u001b[1;33m)\u001b[0m \u001b[1;31m# test\u001b[0m\u001b[1;33m\u001b[0m\u001b[0m\n\u001b[0;32m     19\u001b[0m     \u001b[0mpred2\u001b[0m \u001b[1;33m=\u001b[0m \u001b[0mbst\u001b[0m\u001b[1;33m.\u001b[0m\u001b[0mpredict\u001b[0m\u001b[1;33m(\u001b[0m\u001b[0mxgb_test\u001b[0m\u001b[1;33m)\u001b[0m\u001b[1;33m\u001b[0m\u001b[0m\n",
      "\u001b[1;32mC:\\ProgramData\\Anaconda3\\lib\\site-packages\\xgboost\\training.py\u001b[0m in \u001b[0;36mtrain\u001b[1;34m(params, dtrain, num_boost_round, evals, obj, feval, maximize, early_stopping_rounds, evals_result, verbose_eval, xgb_model, callbacks, learning_rates)\u001b[0m\n\u001b[0;32m    214\u001b[0m                            \u001b[0mevals\u001b[0m\u001b[1;33m=\u001b[0m\u001b[0mevals\u001b[0m\u001b[1;33m,\u001b[0m\u001b[1;33m\u001b[0m\u001b[0m\n\u001b[0;32m    215\u001b[0m                            \u001b[0mobj\u001b[0m\u001b[1;33m=\u001b[0m\u001b[0mobj\u001b[0m\u001b[1;33m,\u001b[0m \u001b[0mfeval\u001b[0m\u001b[1;33m=\u001b[0m\u001b[0mfeval\u001b[0m\u001b[1;33m,\u001b[0m\u001b[1;33m\u001b[0m\u001b[0m\n\u001b[1;32m--> 216\u001b[1;33m                            xgb_model=xgb_model, callbacks=callbacks)\n\u001b[0m\u001b[0;32m    217\u001b[0m \u001b[1;33m\u001b[0m\u001b[0m\n\u001b[0;32m    218\u001b[0m \u001b[1;33m\u001b[0m\u001b[0m\n",
      "\u001b[1;32mC:\\ProgramData\\Anaconda3\\lib\\site-packages\\xgboost\\training.py\u001b[0m in \u001b[0;36m_train_internal\u001b[1;34m(params, dtrain, num_boost_round, evals, obj, feval, xgb_model, callbacks)\u001b[0m\n\u001b[0;32m     72\u001b[0m         \u001b[1;31m# Skip the first update if it is a recovery step.\u001b[0m\u001b[1;33m\u001b[0m\u001b[1;33m\u001b[0m\u001b[0m\n\u001b[0;32m     73\u001b[0m         \u001b[1;32mif\u001b[0m \u001b[0mversion\u001b[0m \u001b[1;33m%\u001b[0m \u001b[1;36m2\u001b[0m \u001b[1;33m==\u001b[0m \u001b[1;36m0\u001b[0m\u001b[1;33m:\u001b[0m\u001b[1;33m\u001b[0m\u001b[0m\n\u001b[1;32m---> 74\u001b[1;33m             \u001b[0mbst\u001b[0m\u001b[1;33m.\u001b[0m\u001b[0mupdate\u001b[0m\u001b[1;33m(\u001b[0m\u001b[0mdtrain\u001b[0m\u001b[1;33m,\u001b[0m \u001b[0mi\u001b[0m\u001b[1;33m,\u001b[0m \u001b[0mobj\u001b[0m\u001b[1;33m)\u001b[0m\u001b[1;33m\u001b[0m\u001b[0m\n\u001b[0m\u001b[0;32m     75\u001b[0m             \u001b[0mbst\u001b[0m\u001b[1;33m.\u001b[0m\u001b[0msave_rabit_checkpoint\u001b[0m\u001b[1;33m(\u001b[0m\u001b[1;33m)\u001b[0m\u001b[1;33m\u001b[0m\u001b[0m\n\u001b[0;32m     76\u001b[0m             \u001b[0mversion\u001b[0m \u001b[1;33m+=\u001b[0m \u001b[1;36m1\u001b[0m\u001b[1;33m\u001b[0m\u001b[0m\n",
      "\u001b[1;32mC:\\ProgramData\\Anaconda3\\lib\\site-packages\\xgboost\\core.py\u001b[0m in \u001b[0;36mupdate\u001b[1;34m(self, dtrain, iteration, fobj)\u001b[0m\n\u001b[0;32m   1043\u001b[0m         \u001b[1;32mif\u001b[0m \u001b[0mfobj\u001b[0m \u001b[1;32mis\u001b[0m \u001b[1;32mNone\u001b[0m\u001b[1;33m:\u001b[0m\u001b[1;33m\u001b[0m\u001b[0m\n\u001b[0;32m   1044\u001b[0m             _check_call(_LIB.XGBoosterUpdateOneIter(self.handle, ctypes.c_int(iteration),\n\u001b[1;32m-> 1045\u001b[1;33m                                                     dtrain.handle))\n\u001b[0m\u001b[0;32m   1046\u001b[0m         \u001b[1;32melse\u001b[0m\u001b[1;33m:\u001b[0m\u001b[1;33m\u001b[0m\u001b[0m\n\u001b[0;32m   1047\u001b[0m             \u001b[0mpred\u001b[0m \u001b[1;33m=\u001b[0m \u001b[0mself\u001b[0m\u001b[1;33m.\u001b[0m\u001b[0mpredict\u001b[0m\u001b[1;33m(\u001b[0m\u001b[0mdtrain\u001b[0m\u001b[1;33m)\u001b[0m\u001b[1;33m\u001b[0m\u001b[0m\n",
      "\u001b[1;31mKeyboardInterrupt\u001b[0m: "
     ]
    }
   ],
   "source": [
    "# XGBoost sample5(colsample_bytree 구하기) 만들기\n",
    "for i in range(95, 101):\n",
    "    xgb5 = xgb.XGBClassifier(learning_rate=0.1,\n",
    "                             n_estimators=1000, \n",
    "                             max_depth=4,\n",
    "                             min_child_weight=1,\n",
    "                             gamma=0.1,\n",
    "                             subsample=0.75,\n",
    "                             colsample_bytree=i/100,\n",
    "                             objective= 'reg:linear',\n",
    "                             scale_pos_weight=1,\n",
    "                             seed=27)\n",
    "    xgb5_param = xgb5.get_xgb_params()\n",
    "    \n",
    "    # train & test\n",
    "    num_round = 200\n",
    "    bst = xgb.train(xgb5_param, xgb_train, num_round) # 훈련\n",
    "    pred1 = bst.predict(xgb_train) # 예측\n",
    "    pred2 = bst.predict(xgb_test) # 예측\n",
    "        \n",
    "    # Mean Absolute Error 출력\n",
    "    print('colsample_bytree: {0}, train_error: {1}, test_error: {2}'.format(i, abs(pred1-real1).mean(), abs(pred2-real2).mean()))"
   ]
  },
  {
   "cell_type": "code",
   "execution_count": 111,
   "metadata": {},
   "outputs": [
    {
     "name": "stdout",
     "output_type": "stream",
     "text": [
      "num_round: 50, train_error: 1.1144766640314425, test_error: 1.2942233763722477\n",
      "num_round: 100, train_error: 0.9884393582512517, test_error: 1.1087806198259746\n",
      "num_round: 150, train_error: 0.9616335298569894, test_error: 1.0492491038811305\n",
      "num_round: 200, train_error: 0.9460561340980773, test_error: 1.0352631526499352\n",
      "num_round: 250, train_error: 0.9370615298499256, test_error: 1.031828892221419\n",
      "num_round: 300, train_error: 0.9286817543500161, test_error: 1.0320901927375394\n"
     ]
    },
    {
     "ename": "KeyboardInterrupt",
     "evalue": "",
     "output_type": "error",
     "traceback": [
      "\u001b[1;31m---------------------------------------------------------------------------\u001b[0m",
      "\u001b[1;31mKeyboardInterrupt\u001b[0m                         Traceback (most recent call last)",
      "\u001b[1;32m<ipython-input-111-10177344b7e4>\u001b[0m in \u001b[0;36m<module>\u001b[1;34m()\u001b[0m\n\u001b[0;32m     15\u001b[0m     \u001b[1;31m# train & test\u001b[0m\u001b[1;33m\u001b[0m\u001b[1;33m\u001b[0m\u001b[0m\n\u001b[0;32m     16\u001b[0m     \u001b[0mnum_round\u001b[0m \u001b[1;33m=\u001b[0m \u001b[0mi\u001b[0m\u001b[1;33m\u001b[0m\u001b[0m\n\u001b[1;32m---> 17\u001b[1;33m     \u001b[0mbst\u001b[0m \u001b[1;33m=\u001b[0m \u001b[0mxgb\u001b[0m\u001b[1;33m.\u001b[0m\u001b[0mtrain\u001b[0m\u001b[1;33m(\u001b[0m\u001b[0mxgb6_param\u001b[0m\u001b[1;33m,\u001b[0m \u001b[0mxgb_train\u001b[0m\u001b[1;33m,\u001b[0m \u001b[0mnum_round\u001b[0m\u001b[1;33m)\u001b[0m \u001b[1;31m# train\u001b[0m\u001b[1;33m\u001b[0m\u001b[0m\n\u001b[0m\u001b[0;32m     18\u001b[0m     \u001b[0mpred1\u001b[0m \u001b[1;33m=\u001b[0m \u001b[0mbst\u001b[0m\u001b[1;33m.\u001b[0m\u001b[0mpredict\u001b[0m\u001b[1;33m(\u001b[0m\u001b[0mxgb_train\u001b[0m\u001b[1;33m)\u001b[0m \u001b[1;31m# test\u001b[0m\u001b[1;33m\u001b[0m\u001b[0m\n\u001b[0;32m     19\u001b[0m     \u001b[0mpred2\u001b[0m \u001b[1;33m=\u001b[0m \u001b[0mbst\u001b[0m\u001b[1;33m.\u001b[0m\u001b[0mpredict\u001b[0m\u001b[1;33m(\u001b[0m\u001b[0mxgb_test\u001b[0m\u001b[1;33m)\u001b[0m\u001b[1;33m\u001b[0m\u001b[0m\n",
      "\u001b[1;32mC:\\ProgramData\\Anaconda3\\lib\\site-packages\\xgboost\\training.py\u001b[0m in \u001b[0;36mtrain\u001b[1;34m(params, dtrain, num_boost_round, evals, obj, feval, maximize, early_stopping_rounds, evals_result, verbose_eval, xgb_model, callbacks, learning_rates)\u001b[0m\n\u001b[0;32m    214\u001b[0m                            \u001b[0mevals\u001b[0m\u001b[1;33m=\u001b[0m\u001b[0mevals\u001b[0m\u001b[1;33m,\u001b[0m\u001b[1;33m\u001b[0m\u001b[0m\n\u001b[0;32m    215\u001b[0m                            \u001b[0mobj\u001b[0m\u001b[1;33m=\u001b[0m\u001b[0mobj\u001b[0m\u001b[1;33m,\u001b[0m \u001b[0mfeval\u001b[0m\u001b[1;33m=\u001b[0m\u001b[0mfeval\u001b[0m\u001b[1;33m,\u001b[0m\u001b[1;33m\u001b[0m\u001b[0m\n\u001b[1;32m--> 216\u001b[1;33m                            xgb_model=xgb_model, callbacks=callbacks)\n\u001b[0m\u001b[0;32m    217\u001b[0m \u001b[1;33m\u001b[0m\u001b[0m\n\u001b[0;32m    218\u001b[0m \u001b[1;33m\u001b[0m\u001b[0m\n",
      "\u001b[1;32mC:\\ProgramData\\Anaconda3\\lib\\site-packages\\xgboost\\training.py\u001b[0m in \u001b[0;36m_train_internal\u001b[1;34m(params, dtrain, num_boost_round, evals, obj, feval, xgb_model, callbacks)\u001b[0m\n\u001b[0;32m     72\u001b[0m         \u001b[1;31m# Skip the first update if it is a recovery step.\u001b[0m\u001b[1;33m\u001b[0m\u001b[1;33m\u001b[0m\u001b[0m\n\u001b[0;32m     73\u001b[0m         \u001b[1;32mif\u001b[0m \u001b[0mversion\u001b[0m \u001b[1;33m%\u001b[0m \u001b[1;36m2\u001b[0m \u001b[1;33m==\u001b[0m \u001b[1;36m0\u001b[0m\u001b[1;33m:\u001b[0m\u001b[1;33m\u001b[0m\u001b[0m\n\u001b[1;32m---> 74\u001b[1;33m             \u001b[0mbst\u001b[0m\u001b[1;33m.\u001b[0m\u001b[0mupdate\u001b[0m\u001b[1;33m(\u001b[0m\u001b[0mdtrain\u001b[0m\u001b[1;33m,\u001b[0m \u001b[0mi\u001b[0m\u001b[1;33m,\u001b[0m \u001b[0mobj\u001b[0m\u001b[1;33m)\u001b[0m\u001b[1;33m\u001b[0m\u001b[0m\n\u001b[0m\u001b[0;32m     75\u001b[0m             \u001b[0mbst\u001b[0m\u001b[1;33m.\u001b[0m\u001b[0msave_rabit_checkpoint\u001b[0m\u001b[1;33m(\u001b[0m\u001b[1;33m)\u001b[0m\u001b[1;33m\u001b[0m\u001b[0m\n\u001b[0;32m     76\u001b[0m             \u001b[0mversion\u001b[0m \u001b[1;33m+=\u001b[0m \u001b[1;36m1\u001b[0m\u001b[1;33m\u001b[0m\u001b[0m\n",
      "\u001b[1;32mC:\\ProgramData\\Anaconda3\\lib\\site-packages\\xgboost\\core.py\u001b[0m in \u001b[0;36mupdate\u001b[1;34m(self, dtrain, iteration, fobj)\u001b[0m\n\u001b[0;32m   1043\u001b[0m         \u001b[1;32mif\u001b[0m \u001b[0mfobj\u001b[0m \u001b[1;32mis\u001b[0m \u001b[1;32mNone\u001b[0m\u001b[1;33m:\u001b[0m\u001b[1;33m\u001b[0m\u001b[0m\n\u001b[0;32m   1044\u001b[0m             _check_call(_LIB.XGBoosterUpdateOneIter(self.handle, ctypes.c_int(iteration),\n\u001b[1;32m-> 1045\u001b[1;33m                                                     dtrain.handle))\n\u001b[0m\u001b[0;32m   1046\u001b[0m         \u001b[1;32melse\u001b[0m\u001b[1;33m:\u001b[0m\u001b[1;33m\u001b[0m\u001b[0m\n\u001b[0;32m   1047\u001b[0m             \u001b[0mpred\u001b[0m \u001b[1;33m=\u001b[0m \u001b[0mself\u001b[0m\u001b[1;33m.\u001b[0m\u001b[0mpredict\u001b[0m\u001b[1;33m(\u001b[0m\u001b[0mdtrain\u001b[0m\u001b[1;33m)\u001b[0m\u001b[1;33m\u001b[0m\u001b[0m\n",
      "\u001b[1;31mKeyboardInterrupt\u001b[0m: "
     ]
    }
   ],
   "source": [
    "# XGBoost sample6(num_round 구하기) 만들기\n",
    "for i in range(50, 500, 50):\n",
    "    xgb6 = xgb.XGBClassifier(learning_rate=0.1,\n",
    "                             n_estimators=1000, \n",
    "                             max_depth=4,\n",
    "                             min_child_weight=1,\n",
    "                             gamma=0.1,\n",
    "                             subsample=0.75,\n",
    "                             colsample_bytree=1,\n",
    "                             objective= 'reg:linear',\n",
    "                             scale_pos_weight=1,\n",
    "                             seed=27)\n",
    "    xgb6_param = xgb6.get_xgb_params()\n",
    "    \n",
    "    # train & test\n",
    "    num_round = i\n",
    "    bst = xgb.train(xgb6_param, xgb_train, num_round) # 훈련\n",
    "    pred1 = bst.predict(xgb_train) # 예측\n",
    "    pred2 = bst.predict(xgb_test)\n",
    "\n",
    "    # Mean Absolute Error 출력\n",
    "    print('num_round: {0}, train_error: {1}, test_error: {2}'.format(i, abs(pred1-real1).mean(), abs(pred2-real2).mean()))"
   ]
  },
  {
   "cell_type": "code",
   "execution_count": 13,
   "metadata": {},
   "outputs": [],
   "source": [
    "# 최적화된 XGBoost\n",
    "xgb7 = xgb.XGBClassifier(learning_rate=0.1,\n",
    "                         n_estimators=1000, \n",
    "                         max_depth=4,\n",
    "                         min_child_weight=1,\n",
    "                         gamma=0.1,\n",
    "                         subsample=0.75,\n",
    "                         colsample_bytree=1,\n",
    "                         objective= 'reg:linear',\n",
    "                         scale_pos_weight=1,\n",
    "                         seed=27)\n",
    "xgb7_param = xgb7.get_xgb_params()\n",
    "    \n",
    "# train & test\n",
    "num_round = 250\n",
    "bst = xgb.train(xgb7_param, xgb_train, num_round) # 훈련\n",
    "pred1 = bst.predict(xgb_train) # 예측\n",
    "pred2 = bst.predict(xgb_test)"
   ]
  },
  {
   "cell_type": "code",
   "execution_count": 14,
   "metadata": {},
   "outputs": [
    {
     "data": {
      "image/png": "[encoded data removed]",
      "text/plain": [
       "<matplotlib.figure.Figure at 0x261a19359e8>"
      ]
     },
     "metadata": {},
     "output_type": "display_data"
    }
   ],
   "source": [
    "# feature 별 중요도를 보여주는 그래프 그리기\n",
    "fig, ax = plt.subplots(figsize=(12,18))\n",
    "xgb.plot_importance(bst, max_num_features=50, height=0.8, ax=ax)\n",
    "plt.show()"
   ]
  },
  {
   "cell_type": "code",
   "execution_count": 15,
   "metadata": {},
   "outputs": [],
   "source": [
    "# test1에 pred2(예측된 lap time) 추가\n",
    "test1 = test1.reset_index()\n",
    "test1['pred'] = pd.DataFrame(pred2)"
   ]
  },
  {
   "cell_type": "code",
   "execution_count": 16,
   "metadata": {},
   "outputs": [],
   "source": [
    "# group_id 순으로 정렬\n",
    "test1 = test1.sort_values(['group_id']).reset_index(drop = True)"
   ]
  },
  {
   "cell_type": "code",
   "execution_count": 17,
   "metadata": {},
   "outputs": [],
   "source": [
    "# group_id를 중복 제거하여 array로 만들기\n",
    "test_group_id = test1['group_id']\n",
    "group_id = np.array(test_group_id.drop_duplicates())"
   ]
  },
  {
   "cell_type": "code",
   "execution_count": 18,
   "metadata": {},
   "outputs": [],
   "source": [
    "# group_id 별로 예측된 rank column 추가\n",
    "rank1 = pd.DataFrame()\n",
    "for i in group_id:\n",
    "    rank1 = rank1.append(pd.DataFrame(test1[test1['group_id'] == i]['pred'].rank()))\n",
    "test1['pred_rank'] = rank1"
   ]
  },
  {
   "cell_type": "code",
   "execution_count": 19,
   "metadata": {},
   "outputs": [],
   "source": [
    "# group_id 별로 실제 rank column 추가\n",
    "rank2 = pd.DataFrame()\n",
    "for i in group_id:\n",
    "    rank2 = rank2.append(pd.DataFrame(test1[test1['group_id'] == i]['record'].rank()))\n",
    "test1['rank'] = rank2"
   ]
  },
  {
   "cell_type": "code",
   "execution_count": 20,
   "metadata": {},
   "outputs": [
    {
     "data": {
      "text/plain": [
       "0.38192668371696503"
      ]
     },
     "execution_count": 20,
     "metadata": {},
     "output_type": "execute_result"
    }
   ],
   "source": [
    "# 1위로 예측한 것 중 실제 1위한 확률 계산\n",
    "a = 0\n",
    "b = 0\n",
    "for i in test1[test1['pred_rank'] == 1]['rank']:\n",
    "    if i == 1 or i == 1.5:\n",
    "        a += 1\n",
    "        b += 1\n",
    "    else:\n",
    "        b += 1\n",
    "a/b"
   ]
  },
  {
   "cell_type": "code",
   "execution_count": 128,
   "metadata": {},
   "outputs": [],
   "source": [
    "# test1을 csv 파일로 뽑아내기\n",
    "test1.to_csv('XGBoost_pred1.csv')"
   ]
  },
  {
   "cell_type": "markdown",
   "metadata": {},
   "source": [
    "### train/test2를 최적화하는 과정"
   ]
  },
  {
   "cell_type": "code",
   "execution_count": 32,
   "metadata": {},
   "outputs": [
    {
     "data": {
      "text/plain": [
       "Index(['date', 'round', 'code', 'distance_x', 'record_x', 'rank',\n",
       "       'horse_level_num', 'velocity', 'prev1_rank', 'prev2_rank', 'prev3_rank',\n",
       "       'prev1_velo', 'prev2_velo', 'prev3_velo', 'avg_vel', 'adj_vel',\n",
       "       'prev1_adjvelo', 'prev2_adjvelo', 'prev3_adjvelo', 'prev_avgvel2',\n",
       "       'prev_avgrank2', 'failsin2', 'nodata', 'record_y', 'year', 'month',\n",
       "       'location', 'weather', 'distance_y', 'lane', 'humidity',\n",
       "       'humidity_dummy', 'sex', 'age', 'raw_weight', 'jockey_w', 'weight_diff',\n",
       "       'weight_total', 'dandivi', 'yeondivi', 'groupid'],\n",
       "      dtype='object')"
      ]
     },
     "execution_count": 32,
     "metadata": {},
     "output_type": "execute_result"
    }
   ],
   "source": [
    "merged_train2.columns"
   ]
  },
  {
   "cell_type": "code",
   "execution_count": 59,
   "metadata": {},
   "outputs": [],
   "source": [
    "# 필요한 변수만 뽑아서 train set 만들기\n",
    "train2 = pd.DataFrame()\n",
    "train2['record'] = merged_train2['record_x']\n",
    "train2['code'] = merged_train2['code']\n",
    "train2['group_id'] = merged_train2['groupid']\n",
    "train2['year'] = merged_train2['year']\n",
    "train2['month'] = merged_train2['month']\n",
    "train2['location'] = merged_train2['location']\n",
    "train2['weather'] = merged_train2['weather']\n",
    "train2['distance'] = merged_train2['distance_x']\n",
    "train2['round'] = merged_train2['round']\n",
    "train2['lane'] = merged_train2['lane']\n",
    "train2['humidity'] = merged_train2['humidity']\n",
    "train2['humidity_dummy'] = merged_train2['humidity_dummy']\n",
    "train2['sex'] = merged_train2['sex']\n",
    "train2['age'] = merged_train2['age']\n",
    "train2['raw_weight'] = merged_train2['raw_weight']\n",
    "train2['jockey_w'] = merged_train2['jockey_w']\n",
    "train2['weight_diff'] = merged_train2['weight_diff']\n",
    "train2['weight_total'] = merged_train2['weight_total']\n",
    "train2['rating'] = merged_train2['horse_level_num']\n",
    "train2['dandivi'] = merged_train2['dandivi']\n",
    "train2['yeondivi'] = merged_train2['yeondivi']"
   ]
  },
  {
   "cell_type": "code",
   "execution_count": 60,
   "metadata": {},
   "outputs": [],
   "source": [
    "# 필요한 변수만 뽑아서 test set 만들기\n",
    "test2 = pd.DataFrame()\n",
    "test2['record'] = merged_test2['record_x']\n",
    "test2['code'] = merged_test2['code']\n",
    "test2['group_id'] = merged_test2['groupid']\n",
    "test2['year'] = merged_test2['year']\n",
    "test2['month'] = merged_test2['month']\n",
    "test2['location'] = merged_test2['location']\n",
    "test2['weather'] = merged_test2['weather']\n",
    "test2['distance'] = merged_test2['distance_x']\n",
    "test2['round'] = merged_test2['round']\n",
    "test2['lane'] = merged_test2['lane']\n",
    "test2['humidity'] = merged_test2['humidity']\n",
    "test2['humidity_dummy'] = merged_test2['humidity_dummy']\n",
    "test2['sex'] = merged_test2['sex']\n",
    "test2['age'] = merged_test2['age']\n",
    "test2['raw_weight'] = merged_test2['raw_weight']\n",
    "test2['jockey_w'] = merged_test2['jockey_w']\n",
    "test2['weight_diff'] = merged_test2['weight_diff']\n",
    "test2['weight_total'] = merged_test2['weight_total']\n",
    "test2['rating'] = merged_test2['horse_level_num']\n",
    "test2['dandivi'] = merged_test2['dandivi']\n",
    "test2['yeondivi'] = merged_test2['yeondivi']"
   ]
  },
  {
   "cell_type": "code",
   "execution_count": 61,
   "metadata": {},
   "outputs": [],
   "source": [
    "# XGBoost의 feature 지정(record에 영향을 미치는 변수들)\n",
    "features = ['year', 'month', 'location', 'weather', 'distance', 'round', 'lane', 'humidity', 'humidity_dummy', 'sex', 'age',\n",
    "            'raw_weight', 'jockey_w', 'weight_diff', 'weight_total', 'rating', 'dandivi', 'yeondivi']"
   ]
  },
  {
   "cell_type": "code",
   "execution_count": 62,
   "metadata": {},
   "outputs": [],
   "source": [
    "# train, test dataframe을 array로 바꾸기\n",
    "train_array = train2.as_matrix()\n",
    "test_array = test2.as_matrix()\n",
    "    \n",
    "# 맨 앞 칼럼이 record time(종속변수)이라서 따로 떼어줌.\n",
    "real1 = train_array[:,0]; real2 = test_array[:,0]\n",
    "    \n",
    "# xgb에서 쓸 수 있도록 자료형 변경\n",
    "xgb_train = xgb.DMatrix(train_array[:,3:], label = real1, feature_names = features) \n",
    "xgb_test = xgb.DMatrix(test_array[:,3:], label = real2, feature_names = features)"
   ]
  },
  {
   "cell_type": "code",
   "execution_count": 65,
   "metadata": {},
   "outputs": [
    {
     "name": "stdout",
     "output_type": "stream",
     "text": [
      "max_depth: 2, train_error: 1.025848132288506, test_error: 1.0198528745444106\n",
      "max_depth: 3, train_error: 0.9782673188675607, test_error: 0.9724935039480619\n",
      "max_depth: 4, train_error: 0.9479022858690742, test_error: 0.9763592967823305\n"
     ]
    }
   ],
   "source": [
    "# XGBoost sample1(max_depth 구하기) 만들기\n",
    "for i in range(2, 5):\n",
    "    xgb1 = xgb.XGBClassifier(learning_rate=0.1,\n",
    "                             n_estimators=1000, \n",
    "                             max_depth=i,\n",
    "                             min_child_weight=1,\n",
    "                             gamma=0.1,\n",
    "                             subsample=0.8,\n",
    "                             colsample_bytree=0.8,\n",
    "                             objective= 'reg:linear',\n",
    "                             scale_pos_weight=1,\n",
    "                             seed=27)\n",
    "    xgb1_param = xgb1.get_xgb_params()\n",
    "    \n",
    "    # train & test\n",
    "    num_round = 200\n",
    "    bst = xgb.train(xgb1_param, xgb_train, num_round) # 훈련\n",
    "    pred1 = bst.predict(xgb_train) # 예측\n",
    "    pred2 = bst.predict(xgb_test) # 예측\n",
    "        \n",
    "    # Mean Absolute Error 출력\n",
    "    print('max_depth: {0}, train_error: {1}, test_error: {2}'.format(i, abs(pred1-real1).mean(), abs(pred2-real2).mean()))"
   ]
  },
  {
   "cell_type": "code",
   "execution_count": 67,
   "metadata": {},
   "outputs": [
    {
     "name": "stdout",
     "output_type": "stream",
     "text": [
      "min_child_weight: 5, train_error: 0.9774375597534762, test_error: 0.9718390038293931\n",
      "min_child_weight: 6, train_error: 0.9780265402784818, test_error: 0.9684271260689751\n",
      "min_child_weight: 7, train_error: 0.9776296460408246, test_error: 0.970143873487939\n",
      "min_child_weight: 8, train_error: 0.9775254441997935, test_error: 0.973856928004147\n"
     ]
    }
   ],
   "source": [
    "# XGBoost sample2(min_child_weight 구하기) 만들기\n",
    "for i in range(4, 9):\n",
    "    xgb2 = xgb.XGBClassifier(learning_rate=0.1,\n",
    "                             n_estimators=1000, \n",
    "                             max_depth=3,\n",
    "                             min_child_weight=i,\n",
    "                             gamma=0.1,\n",
    "                             subsample=0.8,\n",
    "                             colsample_bytree=0.8,\n",
    "                             objective= 'reg:linear',\n",
    "                             scale_pos_weight=1,\n",
    "                             seed=27)\n",
    "    xgb2_param = xgb2.get_xgb_params()\n",
    "    \n",
    "    # train & test\n",
    "    num_round = 200\n",
    "    bst = xgb.train(xgb2_param, xgb_train, num_round) # 훈련\n",
    "    pred1 = bst.predict(xgb_train) # 예측\n",
    "    pred2 = bst.predict(xgb_test) # 예측\n",
    "        \n",
    "    # Mean Absolute Error 출력\n",
    "    print('min_child_weight: {0}, train_error: {1}, test_error: {2}'.format(i, abs(pred1-real1).mean(), abs(pred2-real2).mean()))"
   ]
  },
  {
   "cell_type": "code",
   "execution_count": 68,
   "metadata": {},
   "outputs": [
    {
     "name": "stdout",
     "output_type": "stream",
     "text": [
      "gamma: 0, train_error: 0.9780265402784818, test_error: 0.9684271260689751\n",
      "gamma: 1, train_error: 0.9780265402784818, test_error: 0.9684271260689751\n",
      "gamma: 2, train_error: 0.9780265402784818, test_error: 0.9684271260689751\n",
      "gamma: 3, train_error: 0.9780265402784818, test_error: 0.9684271260689751\n",
      "gamma: 4, train_error: 0.9780265402784818, test_error: 0.9684271260689751\n"
     ]
    }
   ],
   "source": [
    "# XGBoost sample3(gamma 구하기) 만들기\n",
    "for i in range(0, 5):\n",
    "    xgb3 = xgb.XGBClassifier(learning_rate=0.1,\n",
    "                             n_estimators=1000, \n",
    "                             max_depth=3,\n",
    "                             min_child_weight=4,\n",
    "                             gamma=i/10,\n",
    "                             subsample=0.8,\n",
    "                             colsample_bytree=0.8,\n",
    "                             objective= 'reg:linear',\n",
    "                             scale_pos_weight=1,\n",
    "                             seed=27)\n",
    "    xgb3_param = xgb3.get_xgb_params()\n",
    "    \n",
    "    # train & test\n",
    "    num_round = 200\n",
    "    bst = xgb.train(xgb3_param, xgb_train, num_round) # 훈련\n",
    "    pred1 = bst.predict(xgb_train) # 예측\n",
    "    pred2 = bst.predict(xgb_test) # 예측\n",
    "        \n",
    "    # Mean Absolute Error 출력\n",
    "    print('gamma: {0}, train_error: {1}, test_error: {2}'.format(i, abs(pred1-real1).mean(), abs(pred2-real2).mean()))"
   ]
  },
  {
   "cell_type": "code",
   "execution_count": 77,
   "metadata": {},
   "outputs": [
    {
     "name": "stdout",
     "output_type": "stream",
     "text": [
      "subsample: 75, train_error: 0.9745827563922072, test_error: 0.9777220067390389\n",
      "subsample: 80, train_error: 0.9780265402784818, test_error: 0.9684271260689751\n",
      "subsample: 85, train_error: 0.9747619217961081, test_error: 0.9751915845656938\n"
     ]
    }
   ],
   "source": [
    "# XGBoost sample4(subsample 구하기) 만들기\n",
    "for i in range(15, 30, 5):\n",
    "    xgb4 = xgb.XGBClassifier(learning_rate=0.1,\n",
    "                             n_estimators=1000, \n",
    "                             max_depth=3,\n",
    "                             min_child_weight=4,\n",
    "                             gamma=0.1,\n",
    "                             subsample=i/100,\n",
    "                             colsample_bytree=1,\n",
    "                             objective= 'reg:linear',\n",
    "                             scale_pos_weight=1,\n",
    "                             seed=27)\n",
    "    xgb4_param = xgb4.get_xgb_params()\n",
    "    \n",
    "    # train & test\n",
    "    num_round = 200\n",
    "    bst = xgb.train(xgb4_param, xgb_train, num_round) # 훈련\n",
    "    pred1 = bst.predict(xgb_train) # 예측\n",
    "    pred2 = bst.predict(xgb_test) # 예측\n",
    "        \n",
    "    # Mean Absolute Error 출력\n",
    "    print('subsample: {0}, train_error: {1}, test_error: {2}'.format(i, abs(pred1-real1).mean(), abs(pred2-real2).mean()))"
   ]
  },
  {
   "cell_type": "code",
   "execution_count": 79,
   "metadata": {},
   "outputs": [
    {
     "name": "stdout",
     "output_type": "stream",
     "text": [
      "colsample_bytree: 75, train_error: 0.9822466690152167, test_error: 0.9879366479808444\n",
      "colsample_bytree: 80, train_error: 0.9780265402784818, test_error: 0.9684271260689751\n",
      "colsample_bytree: 85, train_error: 0.9769186120591165, test_error: 0.9829022235873236\n"
     ]
    }
   ],
   "source": [
    "# XGBoost sample5(colsample_bytree 구하기) 만들기\n",
    "for i in range(90, 105, 5):\n",
    "    xgb5 = xgb.XGBClassifier(learning_rate=0.1,\n",
    "                             n_estimators=1000, \n",
    "                             max_depth=3,\n",
    "                             min_child_weight=4,\n",
    "                             gamma=0.1,\n",
    "                             subsample=0.2,\n",
    "                             colsample_bytree=i/100,\n",
    "                             objective= 'reg:linear',\n",
    "                             scale_pos_weight=1,\n",
    "                             seed=27)\n",
    "    xgb5_param = xgb5.get_xgb_params()\n",
    "    \n",
    "    # train & test\n",
    "    num_round = 200\n",
    "    bst = xgb.train(xgb5_param, xgb_train, num_round) # 훈련\n",
    "    pred1 = bst.predict(xgb_train) # 예측\n",
    "    pred2 = bst.predict(xgb_test) # 예측\n",
    "        \n",
    "    # Mean Absolute Error 출력\n",
    "    print('colsample_bytree: {0}, train_error: {1}, test_error: {2}'.format(i, abs(pred1-real1).mean(), abs(pred2-real2).mean()))"
   ]
  },
  {
   "cell_type": "code",
   "execution_count": 80,
   "metadata": {},
   "outputs": [
    {
     "name": "stdout",
     "output_type": "stream",
     "text": [
      "num_round: 50, train_error: 1.2196114588241544, test_error: 1.2108813719498788\n",
      "num_round: 100, train_error: 1.0325182511270805, test_error: 1.027921699332013\n",
      "num_round: 150, train_error: 0.9970773170636789, test_error: 0.9846009484434869\n",
      "num_round: 200, train_error: 0.9780265402784818, test_error: 0.9684271260689751\n",
      "num_round: 250, train_error: 0.9670622153159425, test_error: 0.9671237928893556\n",
      "num_round: 300, train_error: 0.9572448016095545, test_error: 0.9649092762598452\n",
      "num_round: 350, train_error: 0.9506459984065524, test_error: 0.9639585162595304\n",
      "num_round: 400, train_error: 0.9450744745067383, test_error: 0.9653051812743224\n"
     ]
    },
    {
     "ename": "KeyboardInterrupt",
     "evalue": "",
     "output_type": "error",
     "traceback": [
      "\u001b[1;31m---------------------------------------------------------------------------\u001b[0m",
      "\u001b[1;31mKeyboardInterrupt\u001b[0m                         Traceback (most recent call last)",
      "\u001b[1;32m<ipython-input-80-35a2f311184a>\u001b[0m in \u001b[0;36m<module>\u001b[1;34m()\u001b[0m\n\u001b[0;32m     15\u001b[0m     \u001b[1;31m# train & test\u001b[0m\u001b[1;33m\u001b[0m\u001b[1;33m\u001b[0m\u001b[0m\n\u001b[0;32m     16\u001b[0m     \u001b[0mnum_round\u001b[0m \u001b[1;33m=\u001b[0m \u001b[0mi\u001b[0m\u001b[1;33m\u001b[0m\u001b[0m\n\u001b[1;32m---> 17\u001b[1;33m     \u001b[0mbst\u001b[0m \u001b[1;33m=\u001b[0m \u001b[0mxgb\u001b[0m\u001b[1;33m.\u001b[0m\u001b[0mtrain\u001b[0m\u001b[1;33m(\u001b[0m\u001b[0mxgb6_param\u001b[0m\u001b[1;33m,\u001b[0m \u001b[0mxgb_train\u001b[0m\u001b[1;33m,\u001b[0m \u001b[0mnum_round\u001b[0m\u001b[1;33m)\u001b[0m \u001b[1;31m# train\u001b[0m\u001b[1;33m\u001b[0m\u001b[0m\n\u001b[0m\u001b[0;32m     18\u001b[0m     \u001b[0mpred1\u001b[0m \u001b[1;33m=\u001b[0m \u001b[0mbst\u001b[0m\u001b[1;33m.\u001b[0m\u001b[0mpredict\u001b[0m\u001b[1;33m(\u001b[0m\u001b[0mxgb_train\u001b[0m\u001b[1;33m)\u001b[0m \u001b[1;31m# test\u001b[0m\u001b[1;33m\u001b[0m\u001b[0m\n\u001b[0;32m     19\u001b[0m     \u001b[0mpred2\u001b[0m \u001b[1;33m=\u001b[0m \u001b[0mbst\u001b[0m\u001b[1;33m.\u001b[0m\u001b[0mpredict\u001b[0m\u001b[1;33m(\u001b[0m\u001b[0mxgb_test\u001b[0m\u001b[1;33m)\u001b[0m\u001b[1;33m\u001b[0m\u001b[0m\n",
      "\u001b[1;32mC:\\ProgramData\\Anaconda3\\lib\\site-packages\\xgboost\\training.py\u001b[0m in \u001b[0;36mtrain\u001b[1;34m(params, dtrain, num_boost_round, evals, obj, feval, maximize, early_stopping_rounds, evals_result, verbose_eval, xgb_model, callbacks, learning_rates)\u001b[0m\n\u001b[0;32m    214\u001b[0m                            \u001b[0mevals\u001b[0m\u001b[1;33m=\u001b[0m\u001b[0mevals\u001b[0m\u001b[1;33m,\u001b[0m\u001b[1;33m\u001b[0m\u001b[0m\n\u001b[0;32m    215\u001b[0m                            \u001b[0mobj\u001b[0m\u001b[1;33m=\u001b[0m\u001b[0mobj\u001b[0m\u001b[1;33m,\u001b[0m \u001b[0mfeval\u001b[0m\u001b[1;33m=\u001b[0m\u001b[0mfeval\u001b[0m\u001b[1;33m,\u001b[0m\u001b[1;33m\u001b[0m\u001b[0m\n\u001b[1;32m--> 216\u001b[1;33m                            xgb_model=xgb_model, callbacks=callbacks)\n\u001b[0m\u001b[0;32m    217\u001b[0m \u001b[1;33m\u001b[0m\u001b[0m\n\u001b[0;32m    218\u001b[0m \u001b[1;33m\u001b[0m\u001b[0m\n",
      "\u001b[1;32mC:\\ProgramData\\Anaconda3\\lib\\site-packages\\xgboost\\training.py\u001b[0m in \u001b[0;36m_train_internal\u001b[1;34m(params, dtrain, num_boost_round, evals, obj, feval, xgb_model, callbacks)\u001b[0m\n\u001b[0;32m     72\u001b[0m         \u001b[1;31m# Skip the first update if it is a recovery step.\u001b[0m\u001b[1;33m\u001b[0m\u001b[1;33m\u001b[0m\u001b[0m\n\u001b[0;32m     73\u001b[0m         \u001b[1;32mif\u001b[0m \u001b[0mversion\u001b[0m \u001b[1;33m%\u001b[0m \u001b[1;36m2\u001b[0m \u001b[1;33m==\u001b[0m \u001b[1;36m0\u001b[0m\u001b[1;33m:\u001b[0m\u001b[1;33m\u001b[0m\u001b[0m\n\u001b[1;32m---> 74\u001b[1;33m             \u001b[0mbst\u001b[0m\u001b[1;33m.\u001b[0m\u001b[0mupdate\u001b[0m\u001b[1;33m(\u001b[0m\u001b[0mdtrain\u001b[0m\u001b[1;33m,\u001b[0m \u001b[0mi\u001b[0m\u001b[1;33m,\u001b[0m \u001b[0mobj\u001b[0m\u001b[1;33m)\u001b[0m\u001b[1;33m\u001b[0m\u001b[0m\n\u001b[0m\u001b[0;32m     75\u001b[0m             \u001b[0mbst\u001b[0m\u001b[1;33m.\u001b[0m\u001b[0msave_rabit_checkpoint\u001b[0m\u001b[1;33m(\u001b[0m\u001b[1;33m)\u001b[0m\u001b[1;33m\u001b[0m\u001b[0m\n\u001b[0;32m     76\u001b[0m             \u001b[0mversion\u001b[0m \u001b[1;33m+=\u001b[0m \u001b[1;36m1\u001b[0m\u001b[1;33m\u001b[0m\u001b[0m\n",
      "\u001b[1;32mC:\\ProgramData\\Anaconda3\\lib\\site-packages\\xgboost\\core.py\u001b[0m in \u001b[0;36mupdate\u001b[1;34m(self, dtrain, iteration, fobj)\u001b[0m\n\u001b[0;32m   1043\u001b[0m         \u001b[1;32mif\u001b[0m \u001b[0mfobj\u001b[0m \u001b[1;32mis\u001b[0m \u001b[1;32mNone\u001b[0m\u001b[1;33m:\u001b[0m\u001b[1;33m\u001b[0m\u001b[0m\n\u001b[0;32m   1044\u001b[0m             _check_call(_LIB.XGBoosterUpdateOneIter(self.handle, ctypes.c_int(iteration),\n\u001b[1;32m-> 1045\u001b[1;33m                                                     dtrain.handle))\n\u001b[0m\u001b[0;32m   1046\u001b[0m         \u001b[1;32melse\u001b[0m\u001b[1;33m:\u001b[0m\u001b[1;33m\u001b[0m\u001b[0m\n\u001b[0;32m   1047\u001b[0m             \u001b[0mpred\u001b[0m \u001b[1;33m=\u001b[0m \u001b[0mself\u001b[0m\u001b[1;33m.\u001b[0m\u001b[0mpredict\u001b[0m\u001b[1;33m(\u001b[0m\u001b[0mdtrain\u001b[0m\u001b[1;33m)\u001b[0m\u001b[1;33m\u001b[0m\u001b[0m\n",
      "\u001b[1;31mKeyboardInterrupt\u001b[0m: "
     ]
    }
   ],
   "source": [
    "# XGBoost sample6(num_round 구하기) 만들기\n",
    "for i in range(50, 500, 50):\n",
    "    xgb6 = xgb.XGBClassifier(learning_rate=0.1,\n",
    "                             n_estimators=1000, \n",
    "                             max_depth=3,\n",
    "                             min_child_weight=4,\n",
    "                             gamma=0.1,\n",
    "                             subsample=0.2,\n",
    "                             colsample_bytree=1,\n",
    "                             objective= 'reg:linear',\n",
    "                             scale_pos_weight=1,\n",
    "                             seed=27)\n",
    "    xgb6_param = xgb6.get_xgb_params()\n",
    "    \n",
    "    # train & test\n",
    "    num_round = i\n",
    "    bst = xgb.train(xgb6_param, xgb_train, num_round) # 훈련\n",
    "    pred1 = bst.predict(xgb_train) # 예측\n",
    "    pred2 = bst.predict(xgb_test) # 예측\n",
    "\n",
    "    # Mean Absolute Error 출력\n",
    "    print('num_round: {0}, train_error: {1}, test_error: {2}'.format(i, abs(pred1-real1).mean(), abs(pred2-real2).mean()))"
   ]
  },
  {
   "cell_type": "code",
   "execution_count": 90,
   "metadata": {},
   "outputs": [],
   "source": [
    "# 최적화된 XGBoost\n",
    "xgb7 = xgb.XGBClassifier(learning_rate=0.1,\n",
    "                         n_estimators=1000, \n",
    "                         max_depth=3,\n",
    "                         min_child_weight=4,\n",
    "                         gamma=0.1,\n",
    "                         subsample=0.2,\n",
    "                         colsample_bytree=1,\n",
    "                         objective= 'reg:linear',\n",
    "                         scale_pos_weight=1,\n",
    "                         seed=27)\n",
    "xgb7_param = xgb7.get_xgb_params()\n",
    "    \n",
    "# train & test\n",
    "num_round = 300\n",
    "bst = xgb.train(xgb7_param, xgb_train, num_round) # 훈련\n",
    "pred1 = bst.predict(xgb_train) # 예측\n",
    "pred2 = bst.predict(xgb_test) # 예측"
   ]
  },
  {
   "cell_type": "code",
   "execution_count": 91,
   "metadata": {},
   "outputs": [
    {
     "data": {
      "image/png": "[encoded data removed]",
      "text/plain": [
       "<matplotlib.figure.Figure at 0x2619a4ed5c0>"
      ]
     },
     "metadata": {},
     "output_type": "display_data"
    }
   ],
   "source": [
    "# feature 별 중요도를 보여주는 그래프 그리기\n",
    "fig, ax = plt.subplots(figsize=(12,18))\n",
    "xgb.plot_importance(bst, max_num_features=50, height=0.8, ax=ax)\n",
    "plt.show()"
   ]
  },
  {
   "cell_type": "code",
   "execution_count": 83,
   "metadata": {},
   "outputs": [],
   "source": [
    "# test2에 pred2 추가\n",
    "test2 = test2.reset_index()\n",
    "test2['pred'] = pd.DataFrame(pred2)"
   ]
  },
  {
   "cell_type": "code",
   "execution_count": 84,
   "metadata": {},
   "outputs": [],
   "source": [
    "# group_id 순으로 정렬\n",
    "test2 = test2.sort_values(['group_id']).reset_index(drop = True)"
   ]
  },
  {
   "cell_type": "code",
   "execution_count": 85,
   "metadata": {},
   "outputs": [],
   "source": [
    "# group_id를 중복 제거하여 array로 만들기\n",
    "test_group_id = test2['group_id']\n",
    "group_id = np.array(test_group_id.drop_duplicates())"
   ]
  },
  {
   "cell_type": "code",
   "execution_count": 86,
   "metadata": {},
   "outputs": [],
   "source": [
    "# group_id 별로 예측된 rank column 추가\n",
    "rank1 = pd.DataFrame()\n",
    "for i in group_id:\n",
    "    rank1 = rank1.append(pd.DataFrame(test2[test2['group_id'] == i]['pred'].rank()))\n",
    "test2['pred_rank'] = rank1"
   ]
  },
  {
   "cell_type": "code",
   "execution_count": 87,
   "metadata": {},
   "outputs": [],
   "source": [
    "# group_id 별로 실제 rank column 추가\n",
    "rank2 = pd.DataFrame()\n",
    "for i in group_id:\n",
    "    rank2 = rank2.append(pd.DataFrame(test2[test2['group_id'] == i]['record'].rank()))\n",
    "test2['rank'] = rank2"
   ]
  },
  {
   "cell_type": "code",
   "execution_count": 88,
   "metadata": {},
   "outputs": [
    {
     "data": {
      "text/plain": [
       "0.37422360248447206"
      ]
     },
     "execution_count": 88,
     "metadata": {},
     "output_type": "execute_result"
    }
   ],
   "source": [
    "# 1등으로 예측한 것 중 실제 1등한 확률 계산\n",
    "a = 0\n",
    "b = 0\n",
    "for i in test2[test2['pred_rank'] == 1]['rank']:\n",
    "    if i == 1 or i == 1.5:\n",
    "        a += 1\n",
    "        b += 1\n",
    "    else:\n",
    "        b += 1\n",
    "a/b"
   ]
  },
  {
   "cell_type": "code",
   "execution_count": 89,
   "metadata": {},
   "outputs": [],
   "source": [
    "# test2를 csv 파일로 뽑기\n",
    "test2.to_csv('XGBoost_pred2_1.csv')"
   ]
  }
 ],
 "metadata": {
  "kernelspec": {
   "display_name": "Python 3",
   "language": "python",
   "name": "python3"
  },
  "language_info": {
   "codemirror_mode": {
    "name": "ipython",
    "version": 3
   },
   "file_extension": ".py",
   "mimetype": "text/x-python",
   "name": "python",
   "nbconvert_exporter": "python",
   "pygments_lexer": "ipython3",
   "version": "3.7.0"
  }
 },
 "nbformat": 4,
 "nbformat_minor": 2
}
