{
 "cells": [
  {
   "cell_type": "code",
   "execution_count": 2,
   "metadata": {
    "slideshow": {
     "slide_type": "skip"
    }
   },
   "outputs": [],
   "source": [
    "# 발표용\n",
    "!jt -t grade3 -fs 5 -tfs 21"
   ]
  },
  {
   "cell_type": "code",
   "execution_count": 22,
   "metadata": {
    "slideshow": {
     "slide_type": "skip"
    }
   },
   "outputs": [],
   "source": [
    "# 작업용\n",
    "!jt -t oceans16 -fs 11  -tfs 18 -dfs 16"
   ]
  },
  {
   "cell_type": "code",
   "execution_count": 21,
   "metadata": {
    "scrolled": true,
    "slideshow": {
     "slide_type": "skip"
    }
   },
   "outputs": [
    {
     "name": "stdout",
     "output_type": "stream",
     "text": [
      "Reset css and font defaults in:\r\n",
      "/Users/yonghee/.jupyter/custom &\r\n",
      "/Users/yonghee/Library/Jupyter/nbextensions\r\n"
     ]
    }
   ],
   "source": [
    "!jt -r"
   ]
  },
  {
   "cell_type": "markdown",
   "metadata": {
    "slideshow": {
     "slide_type": "slide"
    }
   },
   "source": [
    "# Horse Racing Prediction & Betting Project\n",
    "### | 2018-2 GH 내부프로젝트\n",
    "<br>\n",
    "\n",
    "&nbsp; Members : 김현세 배민영 최원빈 천용희 양영진 이다함 장서영 정우진"
   ]
  },
  {
   "cell_type": "markdown",
   "metadata": {
    "slideshow": {
     "slide_type": "slide"
    }
   },
   "source": [
    "# Table of Contents\n",
    "\n",
    "1. **배경**\n",
    "   1. 주제 소개 및 선정 배경\n",
    "   2. 선행 연구 소개\n",
    "2. **프로젝트 설계**\n",
    "3. **프로젝트 진행 과정**\n",
    "   1. 데이터 수집\n",
    "   2. 데이터 전처리\n",
    "   3. 예측\n",
    "   4. 베팅\n",
    "4. **결론**"
   ]
  },
  {
   "cell_type": "markdown",
   "metadata": {
    "slideshow": {
     "slide_type": "slide"
    }
   },
   "source": [
    "##### 1. 배경\n",
    "## 1-A. 주제 소개 및 선정 배경\n"
   ]
  },
  {
   "cell_type": "markdown",
   "metadata": {
    "slideshow": {
     "slide_type": "slide"
    }
   },
   "source": [
    "![alt text](현장.jpeg \"Title\")"
   ]
  },
  {
   "cell_type": "markdown",
   "metadata": {
    "slideshow": {
     "slide_type": "subslide"
    }
   },
   "source": [
    "##### 1-A. 배경 > 주제 소개 및 선정 배경\n",
    "# 왜 경마인가?\n",
    "1. **공개된 데이터**\n",
    "   1. 국내 모든 경마 데이터는 마사회 홈페이지에 공개\n",
    "   2. 2010년 ~ 2018년 6월까지 8년 반의 데이터를 DB화해놓은 샘플이 존재\n",
    "2. **퀀트 트레이딩과의 연계**\n",
    "   1. 에드워드 소프 등 퀀트 트레이딩 분야의 대부들이 도박에 관심\n",
    "   2. 승률(오를 / 내릴 확률)과 이겨야 할 시장(배당률)의 존재, 제로섬 게임성 등 퀀트 트레이딩과 연관된 분야\n",
    "3. **선행 연구의 다수 존재**\n",
    "   1. 서양권에서는 친숙한 스포츠로 많은 연구자들이 관심\n",
    "   2. 축구 등 다른 스포츠와 달리 개별 말의 domain 특징보다 공개된 데이터로 분석가능한 분야가 다수\n",
    "   3. 선행 연구 논문들에서 방법론 힌트 다수"
   ]
  },
  {
   "cell_type": "markdown",
   "metadata": {
    "slideshow": {
     "slide_type": "subslide"
    }
   },
   "source": [
    "##### 1-A. 배경 > 주제 소개 및 선정 배경\n",
    "# 경마 기본 정보\n",
    "1. **개요**\n",
    "   - 경주거리, 상금, 출전기준 등 정해진 조건에서 2두 이상의 말을 뛰게 하여 승부를 겨루는 경기\n",
    "   - 고객은 돈을 걸고 적중시 환급금을 지급받음\n",
    "2. **경기 지역** : 서울, 부산, 제주\n",
    "3. **베팅 방식**\n",
    "   1. 단승식 : 1등으로 도착할 말 1두를 적중시키는 방식\n",
    "   2. 연승식 : 1~3등 안에 들어올 말 1두를 적중시키는 방식\n",
    "   3. 복연승식 : 1~3등 안에 들어올 말 2두를 순서에 상관없이 적중시키는 방식\n",
    "   4. 복승식 : 1등과 2등으로 들어올 말 2두를 순서에 상관없이 적중시키는 방식\n",
    "   5. 쌍승식 : 1등과 2등으로 들어올 말 2두를 순서대로 적중시키는 방식\n",
    "   6. 삼복승식 : 1등, 2등 및 3등으로 들어올 말 3두를 순서에 상관없이 적중시키는 방식"
   ]
  },
  {
   "cell_type": "markdown",
   "metadata": {
    "slideshow": {
     "slide_type": "subslide"
    }
   },
   "source": [
    "##### 1-B. 배경 > 선행 연구 소개\n",
    "# 선행 연구 정리\n",
    "1. 변수 사용\n",
    "   - 해당 경기의 말의 상태 뿐 아니라 이전 경기의 결과를 효과적으로 넣어야 함\n",
    "   - 데이터를 가공해서 scoring\n",
    "     - min/max를 취해서 사용\n",
    "     - 평균을 취해서 사용\n",
    "     - Z Score 정규화해서 사용\n",
    "   - Public Intelligence를 나타내는 배당률은 효과적인 변수\n",
    "2. 1등 예측 Precision : 30~40% (기본 확률 : 5~15%)\n",
    "3. 수익\n",
    "   - 얻을 가능성 발견하였지만, 예측을 잘 하고도 수익을 못 얻은 경우도 존재"
   ]
  },
  {
   "cell_type": "markdown",
   "metadata": {
    "slideshow": {
     "slide_type": "slide"
    }
   },
   "source": [
    "# 2. 프로젝트 설계"
   ]
  },
  {
   "cell_type": "markdown",
   "metadata": {
    "slideshow": {
     "slide_type": "subslide"
    }
   },
   "source": [
    "##### 2. 프로젝트 설계\n",
    "# 사용 툴\n",
    "| 툴           | 사용 목적                         | 비고                                   |\n",
    "| ------------ | --------------------------------- | -------------------------------------- |\n",
    "| Github       | 협업 및 버전 관리, 기록           | github.com/lettsrunpark                |\n",
    "| Amazon EC2   | 주기적 데이터 수집 및 딥러닝 활용 | 부담스러운 비용으로 테스트 이후 미사용 |\n",
    "| Crontab      | 주기적인 경마 데이터 수집         | 클라우드 미사용으로 미사용                                       |\n",
    "| MySQL        | 데이터의 효율적 관리              | 데이터 구축하였으나 실질적 미사용                                       |\n",
    "| Google Colab | 쉬운 클라우드 GPU 사용            | NN 모델 학습 및 테스팅에 활용          |"
   ]
  },
  {
   "cell_type": "markdown",
   "metadata": {
    "slideshow": {
     "slide_type": "subslide"
    }
   },
   "source": [
    "##### 2. 프로젝트 설계\n",
    "# 예측\n",
    "1. Classification (Rank)\n",
    "    1. Gradient Boosting (XGBoost)\n",
    "    2. Neural Network\n",
    "        1. Binary Classification\n",
    "        2. Multi Class Classification\n",
    "2. Regression (Lap Time)\n",
    "    1. Conditional Logit\n",
    "    2. Neural Network"
   ]
  },
  {
   "cell_type": "markdown",
   "metadata": {
    "slideshow": {
     "slide_type": "subslide"
    }
   },
   "source": [
    "##### 2. 프로젝트 설계\n",
    "# 베팅\n",
    "1. Fixed Amount\n",
    "    * e.g. 모든 경기에 10,000원씩 베팅\n",
    "2. Fixed Rate\n",
    "    * e.g. 모든 경기에 가진 잔고의 10%를 베팅\n",
    "3. Kelly Criterion\n",
    "    * e.g. 모든 경기에 켈리 공식의 optimum대로 베팅"
   ]
  },
  {
   "cell_type": "markdown",
   "metadata": {
    "slideshow": {
     "slide_type": "subslide"
    }
   },
   "source": [
    "##### 2. 프로젝트 설계\n",
    "# 켈리 베팅\n",
    "![alt text](kelly.png \"Title\")"
   ]
  },
  {
   "cell_type": "markdown",
   "metadata": {
    "slideshow": {
     "slide_type": "slide"
    }
   },
   "source": [
    "# 3. 프로젝트 진행 과정"
   ]
  },
  {
   "cell_type": "markdown",
   "metadata": {
    "slideshow": {
     "slide_type": "slide"
    }
   },
   "source": [
    "##### 3. 프로젝트 진행 과정 \n",
    "## A. 데이터 수집"
   ]
  },
  {
   "cell_type": "markdown",
   "metadata": {
    "slideshow": {
     "slide_type": "subslide"
    }
   },
   "source": [
    "##### 3. 프로젝트 진행 과정 > 데이터 수집\n",
    "# 데이터 설계 (Tables)\n",
    "1. race : 경기 결과에 대한 전반적 정보\n",
    "2. race_result : 경기에서 한 마리의 경주마의 퍼포먼스에 대한 자세한 정보\n",
    "3. horse : 경주마 기본 정보\n",
    "4. contract : 경주마 계약 정보\n",
    "5. diagnosis : 경주마 질병 정보\n",
    "6. level_change : 경주마 등급 정보\n",
    "7. record : 거리별 경주마 기록 정보\n",
    "8. training : 경주마 훈련 정보\n",
    "9. jockey : 기수 정보\n",
    "10. penalty : 경주마 제재 기록"
   ]
  },
  {
   "cell_type": "markdown",
   "metadata": {
    "slideshow": {
     "slide_type": "subslide"
    }
   },
   "source": [
    "##### 3. 프로젝트 진행 과정 > 데이터 수집\n",
    "# Table_Race\n",
    "| Feature  | Data Types | Feature  | Data Types | Feature | Data Types |\n",
    "| -------- | ---------- | -------- | ---------- | ------- | ---------- |\n",
    "| date     | datetime   | bokyeon1 | float      | h7      | int        |\n",
    "| round    | int        | bokyeon2 | float      | h8      | int        |\n",
    "| weather  | char(4)    | bokyeon3 | float      | h9      | int        |\n",
    "| humidity | int        | sambok   | float      | h10     | int        |\n",
    "| level    | char(10)   | samssang | float      | h11     | int        |\n",
    "| distance | int        | horses   | int        | h12     | int        |\n",
    "| dan      | float      | h1       | int        | h13     | int        |\n",
    "| yeon1    | float      | h2       | int        | h14     | int        |\n",
    "| yeon2    | float      | h3       | int        | h15     | int        |\n",
    "| yeon3    | float      | h4       | int        | h16     | int        |\n",
    "| bok      | float      | h5       | int        | .        | .           |\n",
    "| ssang    | float      | h6       | int        | .        | .           |"
   ]
  },
  {
   "cell_type": "markdown",
   "metadata": {
    "slideshow": {
     "slide_type": "subslide"
    }
   },
   "source": [
    "##### 3. 프로젝트 진행 과정 > 데이터 수집\n",
    "# Table_Race Result\n",
    "| Feature    | Data Types | Feature | Data Types |\n",
    "| ---------- | ---------- | ------- | ---------- |\n",
    "| date       | datetime   | s1fr    | int        |\n",
    "| round      | int        | c1r     | int        |\n",
    "| name       | char(12)   | c2r     | int        |\n",
    "| code       | int        | c3r     | int        |\n",
    "| rank       | int        | c4r     | int        |\n",
    "| lane       | int        | g1fr    | int        |\n",
    "| sex        | int        | s1f     | float      |\n",
    "| age        | int        | c1      | float      |\n",
    "| jockey_w   | float      | c2      | float      |\n",
    "| rating     | int        | c3      | float      |\n",
    "| jockey     | int        | c4      | float      |\n",
    "| difference | float      | g3f     | float      |\n",
    "| weight     | float      | g1f     | float      |\n",
    "| dandivi    | float      | record  | float      |\n",
    "| yeondivi   | float      | .        | .           |"
   ]
  },
  {
   "cell_type": "markdown",
   "metadata": {
    "slideshow": {
     "slide_type": "slide"
    }
   },
   "source": [
    "##### 3. 프로젝트 진행 과정 \n",
    "## B. 데이터 전처리"
   ]
  },
  {
   "cell_type": "markdown",
   "metadata": {
    "slideshow": {
     "slide_type": "subslide"
    }
   },
   "source": [
    "##### 3. 프로젝트 진행 과정 > 데이터 전처리\n",
    "# 변수 생성\n",
    "&nbsp; - Rating으로부터 등급 변수 생성   \n",
    "&nbsp; - 직전 경기 결과를 담은 column들을 생성    \n",
    "&nbsp;&nbsp;&nbsp; (이전 순위, 이전 기록 속도, 최근 1년 이내 단승식 승률 등)   \n",
    "&nbsp; - Cure Table에서 최근 1달 이내 진료 여부 더미 변수를 생성   \n",
    "\n",
    "\n",
    "| rating | horse_level_num | prev1_rank | prev1_velo | danwin1yr | cure_in_1m |\n",
    "| ------ | --------------- | ---------- | ---------- | --------- | ---------- |\n",
    "| 33     | 5               | NaN        | 12         | 14.067995 | 0          |\n",
    "| 27     | 5               | NaN        | 6          | 14.938489 | 0          |\n",
    "| 26     | 5               | NaN        | 2          | 15.625    | 0          |\n",
    "| 31     | 5               | NaN        | 1          | 16.339869 | 0          |\n",
    "| 32     | 5               | NaN        | 7          | 15.6021   | 1          |"
   ]
  },
  {
   "cell_type": "markdown",
   "metadata": {
    "slideshow": {
     "slide_type": "slide"
    }
   },
   "source": [
    "##### 3. 프로젝트 진행 과정 \n",
    "## C. 예측"
   ]
  },
  {
   "cell_type": "markdown",
   "metadata": {
    "slideshow": {
     "slide_type": "slide"
    }
   },
   "source": [
    "##### 3. 프로젝트 진행 과정 > 예측 > Classification\n",
    "# Gradient Boosting Machine (XGBoost)"
   ]
  },
  {
   "cell_type": "markdown",
   "metadata": {
    "slideshow": {
     "slide_type": "subslide"
    }
   },
   "source": [
    "##### 3. 프로젝트 진행 과정 > 예측 > Classification\n",
    "# XGBoost 소개\n",
    "* 약한 예측 모형을 결합하여 강한 예측모형을 만드는 Boosting 기법의 일종\n",
    "* Boosting 기법 예시\n",
    "    * 어떤 예측 모형 M이 Y를 예측할 확률: Y = M(x) + error(1)\n",
    "    * error(1)을 더 분류할 수 있는 예측 모형 G: error(1) = G(x) + error(2)\n",
    "    * error(2)를 더 분류할 수 있는 예측 모형 H: error(2) = H(x) + error(3)\n",
    "    * 각각의 예측모형에 가중치를 두면 더 좋은 예측 모형이 됨 -> 최종: Y = aM(x) + bG(x) + cH(x) + error(4)\n",
    "* XGBoost는 CART(Classification And Regression Tree)라는 앙상블 기법을 활용하여 각각의 예측 모형과 가중치를 계산함\n",
    "* XGBoost가 일반적인 의사결정나무(Decision Tree)와 다른점이 CART 기법으로 일반적인 의사결정나무는 트리가 분류를 제대로 했는지에만 관심이 있지만, XGBoost의 CART 기법은 각각의 노드에서 Accuracy Score이 계산되어 최종 Score에 영향을 미치므로 같은 분류이더라도 최종 Score에 따라 모델의 우위를 비교 가능. "
   ]
  },
  {
   "cell_type": "markdown",
   "metadata": {
    "slideshow": {
     "slide_type": "subslide"
    }
   },
   "source": [
    "##### 3. 프로젝트 진행 과정 > 예측 > Classification\n",
    "### XGBoost 결과\n",
    "* Precision (1등으로 예측한 경주마 중 실제 1등의 비율)\n",
    "    - 37.4%\n",
    "\n",
    "### XGBoost 참고자료\n",
    "1. 논문: https://arxiv.org/abs/1603.02754\n",
    "2. 공식문서: https://xgboost.readthedocs.io/en/latest/\n",
    "3. https://brunch.co.kr/@snobberys/137\n",
    "4. https://xgboost.readthedocs.io/en/latest/\n",
    "5. https://blog.naver.com/ydj9398/221403852142\n",
    "6. http://jetzt.tistory.com/1041"
   ]
  },
  {
   "cell_type": "markdown",
   "metadata": {
    "slideshow": {
     "slide_type": "slide"
    }
   },
   "source": [
    "##### 3. 프로젝트 진행 과정 > 예측 > Classification\n",
    "# Binary Classification Using Neural Network"
   ]
  },
  {
   "cell_type": "markdown",
   "metadata": {
    "slideshow": {
     "slide_type": "subslide"
    }
   },
   "source": [
    "##### 3. 프로젝트 진행 과정 > 예측 > Classification\n",
    "## 개요\n",
    " - 목표 : 3등 이내의 말을 찾는 모델을 구축 (연승식 베팅에 활용)\n",
    " - 결과값 : 확률 형태\n",
    "\n",
    "## 변수 활용\n",
    "- 말의 성별은 더미변수로 변환, 무게 및 속도 관련 변수는 표준화\n",
    "- 이전 3경기의 등수에 대한 정보는 평균으로 대체\n",
    "- 3등 이내 말의 rank는 1, 그 외는 0으로 재코딩\n",
    "- 종속변수: rank 더미변수\n",
    "- 설명변수: 'lane', 'sex', 'age','new_distance', 'dandivi', 'yeondivi' , 'jockey_w', 'raw_weight', 'weight_added' , 'prev1_velo', 'prev2_velo', 'prev3_velo', 'cure_in_1m', 'jprev1_rank', 'jprev2_rank', 'jprev3_rank', 'prev_rank_mean'\n",
    "\n",
    "## train - test 분리\n",
    "1. test set: 2017년 9월 ~ 2018년 9월 데이터, train set: 그 외 기간\n",
    "2. test set: 2018년 3월 ~ 2018년 9월 데이터, train set: 그 외 기간"
   ]
  },
  {
   "cell_type": "markdown",
   "metadata": {
    "slideshow": {
     "slide_type": "subslide"
    }
   },
   "source": [
    "##### 3. 프로젝트 진행 과정 > 예측 > Classification\n",
    "# 모델 구성\n",
    "- Python에서 신경망 모델을 쉽게 구축하게 해주는 딥러닝 라이브러리 Keras 사용\n",
    "- `Batch Normalization`으로 모델 성능 개선\n",
    "- `Dropout`으로 overfitting 방지\n",
    "- 마지막 활성함수로 `sigmoid` 함수를 사용해 0과 1사이의 결과값 도출\n",
    "- `adam optimizer` 사용\n",
    "- 종속변수가 불균형 데이터 (1~3등 비율이 전체 대비 적음) -> class_weight 옵션을 통해 해결 "
   ]
  },
  {
   "cell_type": "markdown",
   "metadata": {
    "slideshow": {
     "slide_type": "subslide"
    }
   },
   "source": [
    "##### 3. 프로젝트 진행 과정 > 예측 > Classification\n",
    "## Test Set 1 (2017년 9월 ~ 2018년 9월)\n",
    "| Threshold | Precision | 예측값=1의 비율 |\n",
    "| --------- | --------- | --------------- |\n",
    "| 0.6       | 77%      | 4%            |\n",
    "| 0.5       | 68%      | 13%            |\n",
    "| 0.4       | 59%      | 22%            |\n",
    "\n",
    "## Test Set 2 (2018년 3월 ~ 2018년 9월)\n",
    "\n",
    "| Threshold | Precision | 예측값=1의 비율 |\n",
    "| --------- | --------- | --------------- |\n",
    "| 0.6       | 75%      | 3%            |\n",
    "| 0.5       | 68%      | 7%            |\n",
    "| 0.4       | 59%      | 13%            |"
   ]
  },
  {
   "cell_type": "markdown",
   "metadata": {
    "slideshow": {
     "slide_type": "slide"
    }
   },
   "source": [
    "##### 3. 프로젝트 진행 과정 > 예측 > Regression\n",
    "# Conditional Logit (Lap Time)"
   ]
  },
  {
   "cell_type": "markdown",
   "metadata": {
    "slideshow": {
     "slide_type": "subslide"
    }
   },
   "source": [
    "##### 3. 프로젝트 진행 과정 > 예측 > Regression\n",
    "- 주된 참고 문헌 : Ruth N. Bolton & Randall G. Chapman, \"Searching For Positive Returns at the Track: A Multinomial Logit Model for Handicapping Horse Races\"(1986)\n",
    "\n",
    "#### 장점\n",
    "1. 다범주 로짓 모형을 활용한다면, 경기의 맥락(즉 경쟁 경주마들과 관련된 정보)을 반영 가능\n",
    "    - 아래 공식에서 확인할 수 있듯, 임의의 말이 우승할 확률의 분모에는 경쟁마들의 정보가 들어가기 때문\n",
    "    ![alt text](clogit.jpg \"Title\")\n",
    "2. 확률을 Return하는 모델이라는 점\n",
    "    - 한 경기에 뛰는 모든 경주마의 y값을 합하면 1이 되며 이는 다른 모델들과 대별되는 지점\n",
    "3. 이 논문이 제공한 또 다른 중요한 방법론은 Training Data를 확장하는 방법\n",
    "    - 하나의 경기 결과에서 1위 말을 제외하고, 기존의 2위 말이 1위인 것처럼 새로운 경기 조를 생성\n",
    "    - 이렇게 2위, 3위 말이 1위가 되는 가상의 경기 결과를 만들게 된다면, Training Data는 3배로 증가"
   ]
  },
  {
   "cell_type": "markdown",
   "metadata": {
    "slideshow": {
     "slide_type": "subslide"
    }
   },
   "source": [
    "##### 3. 프로젝트 진행 과정 > 예측 > Regression\n",
    "# Conditional Logit Result\n",
    "- 예측 결과 : 가장 확률이 높은 말의 실제 등수\n",
    "    1.  1등일 확률 - 35%\n",
    "    2. 2등 이내일 확률 - 54%\n",
    "    3. 3등 이내일 확률 - 68%로 도출됨\n",
    "- 이는 본질적으로 복수의 Logit 모델이라고 할 수 있는 NN 모델의 필요성을 환기하는 결과라고 해석 가능"
   ]
  },
  {
   "cell_type": "markdown",
   "metadata": {
    "slideshow": {
     "slide_type": "slide"
    }
   },
   "source": [
    "##### 3. 프로젝트 진행 과정 > 예측 > Regression\n",
    "# Neural Network (Lap Time)"
   ]
  },
  {
   "cell_type": "markdown",
   "metadata": {
    "slideshow": {
     "slide_type": "subslide"
    }
   },
   "source": [
    "##### 3. 프로젝트 진행 과정 > 예측 > Regression\n",
    "# Objective\n",
    "- Problem : Regression Problem\n",
    "- Target Y = Finishing Time, Target X = Information of 1 Horse"
   ]
  },
  {
   "cell_type": "markdown",
   "metadata": {
    "slideshow": {
     "slide_type": "subslide"
    }
   },
   "source": [
    "##### 3. 프로젝트 진행 과정 > 예측 > Regression\n",
    "# Features\n",
    "\n",
    "| feature      | details                        |\n",
    "| ------------ | ------------------------------ |\n",
    "| code         | 말의 ID                        |\n",
    "| lane         | int                            |\n",
    "| age          | int                            |\n",
    "| jockey_w     | 기수의 무게, float             |\n",
    "| dandivi      | 단승 배당률, float             |\n",
    "| yeondivi     | 연승 배당률, float             |\n",
    "| cure_in_1m   | 최근 1달 간 치료 여부, boolean |\n",
    "| weight_diff  | float                          |\n",
    "| raw_weight   | float                          |\n",
    "| weight_added | float                          |\n",
    "| prev1_velo   | 이전 경기 속력                 |\n",
    "| prev2_velo   |                                |\n",
    "| sex1, sex2   | 성별 one-hot encoding          |\n",
    "| year         |                                |\n",
    "| month        |                                |"
   ]
  },
  {
   "cell_type": "markdown",
   "metadata": {
    "slideshow": {
     "slide_type": "subslide"
    }
   },
   "source": [
    "##### 3. 프로젝트 진행 과정 > 예측 > Regression\n",
    "# Experiments\n",
    "\n",
    "- Loss Function = MSE of Finishing Time\n",
    "- Optimizer = Adam optimizer\n",
    "- Normalize / no normalize\n",
    "- Dropout / no dropout\n",
    "- Batch normalize / no batch normalize\n",
    "- Decaying learning rate / consistent learning rate\n",
    "- Number of Layer : 3, 4, 5\n",
    "- Batch Size : 16, 32, 64, 128\n",
    "- Traing Epoch : 200, 500, 1000\n",
    "- Data Preprocess\n",
    "  - Group by distance \n",
    "  - Remove outlier\n",
    "  - missing value 너무 많은 예전 기록(2013-4) 제외"
   ]
  },
  {
   "cell_type": "markdown",
   "metadata": {
    "slideshow": {
     "slide_type": "subslide"
    }
   },
   "source": [
    "##### 3. 프로젝트 진행 과정 > 예측 > Regression\n",
    "# Result\n",
    "\n",
    "- Train loss = 30 (after 200 epochs)\n",
    "- Train loss = 10 (after data preprocessing)\n",
    "  - Overfitting : Test loss = 500000\n",
    "- 성능이 낮아 베팅모델로 사용하지 않음"
   ]
  },
  {
   "cell_type": "markdown",
   "metadata": {
    "slideshow": {
     "slide_type": "slide"
    }
   },
   "source": [
    "##### 3. 프로젝트 진행 과정 > 베팅\n",
    "# 베팅 방법별 결과"
   ]
  },
  {
   "cell_type": "markdown",
   "metadata": {
    "slideshow": {
     "slide_type": "slide"
    }
   },
   "source": [
    "##### 3. 프로젝트 진행 과정 > 베팅\n",
    "# Fixed Amount Betting"
   ]
  },
  {
   "cell_type": "markdown",
   "metadata": {
    "slideshow": {
     "slide_type": "subslide"
    }
   },
   "source": [
    "##### 3. 프로젝트 진행 과정 > 베팅\n",
    "# C Logit X Fixed Amount Betting\n",
    "* phat의 최솟값: 0\n",
    "* 베팅한 게임: 1000\n",
    "* 예측 성공한 게임: 334\n",
    "* 시작 금액 : 2,000,000\n",
    "* 최종 금액: 354,000\n",
    "    ![alt text](fa01.jpg \"Title\")"
   ]
  },
  {
   "cell_type": "markdown",
   "metadata": {
    "slideshow": {
     "slide_type": "subslide"
    }
   },
   "source": [
    "##### 3. 프로젝트 진행 과정 > 베팅\n",
    "# C Logit X Fixed Amount Betting\n",
    "* phat의 최솟값: 0.25\n",
    "* 베팅한 게임: 123\n",
    "* 예측 성공한 게임: 69\n",
    "* 시작 금액 : 2,000,000\n",
    "* 최종 금액: 1,926,000\n",
    "    ![alt text](fa02.jpg \"Title\")"
   ]
  },
  {
   "cell_type": "markdown",
   "metadata": {
    "slideshow": {
     "slide_type": "subslide"
    }
   },
   "source": [
    "##### 3. 프로젝트 진행 과정 > 베팅\n",
    "# C Logit X Fixed Amount Betting (연승식)\n",
    "* 테스트 게임: 1000\n",
    "* 베팅한 게임: 123\n",
    "* 예측 성공한 게임: 100\n",
    "* 시작 금액: 2,000,000\n",
    "* 최종 금액: 1,871,000\n",
    "    ![alt text](clogityeonfa.jpg \"Title\")"
   ]
  },
  {
   "cell_type": "markdown",
   "metadata": {
    "slideshow": {
     "slide_type": "subslide"
    }
   },
   "source": [
    "##### 3. 프로젝트 진행 과정 > 베팅\n",
    "# NN X Fixed Amount Betting\n",
    "* prediction 최소: 0.7\n",
    "* 베팅한 게임: 77\n",
    "* 예측 성공한 게임: 38\n",
    "* 시작 금액 : 2,000,000\n",
    "* 최종 금액: 1,869,000\n",
    "    ![alt text](nnfa2.jpg \"Title\")"
   ]
  },
  {
   "cell_type": "markdown",
   "metadata": {
    "slideshow": {
     "slide_type": "subslide"
    }
   },
   "source": [
    "##### 3. 프로젝트 진행 과정 > 베팅\n",
    "# XGBoost X Fixed Amount Betting\n",
    "* 테스트 게임: 445\n",
    "* 베팅한 게임: 400\n",
    "* 예측 성공한 게임: 163\n",
    "* 시작 금액 : 2,000,000\n",
    "* 최종 금액: 1,760,000\n",
    "    ![alt text](xgfa.jpg \"Title\")"
   ]
  },
  {
   "cell_type": "markdown",
   "metadata": {
    "slideshow": {
     "slide_type": "subslide"
    }
   },
   "source": [
    "##### 3. 프로젝트 진행 과정 > 베팅\n",
    "# XGBoost X Fixed Amount Betting (연승식)\n",
    "* 테스트 게임: 445\n",
    "* 베팅한 게임: 297\n",
    "* 예측 성공한 게임: 214\n",
    "* 시작 금액 : 2,000,000\n",
    "* 최종 금액 : 1,778,000\n",
    "    ![alt text](xgfa2.jpg \"Title\")"
   ]
  },
  {
   "cell_type": "markdown",
   "metadata": {
    "slideshow": {
     "slide_type": "slide"
    }
   },
   "source": [
    "##### 3. 프로젝트 진행 과정 > 베팅\n",
    "# Kelly Betting"
   ]
  },
  {
   "cell_type": "markdown",
   "metadata": {
    "slideshow": {
     "slide_type": "subslide"
    }
   },
   "source": [
    "##### 3. 프로젝트 진행 과정 > 베팅\n",
    "# NN X Kelly Betting\n",
    "* 테스트 게임: 471\n",
    "* 베팅한 게임: 904\n",
    "* 예측 성공한 게임: 148\n",
    "* 시작 금액 : 2,000,000\n",
    "* 최종 금액: 1.55\n",
    "    ![alt text](nnkdan.jpg \"Title\")"
   ]
  },
  {
   "cell_type": "markdown",
   "metadata": {
    "slideshow": {
     "slide_type": "subslide"
    }
   },
   "source": [
    "##### 3. 프로젝트 진행 과정 > 베팅\n",
    "# C Logit X Kelly Betting (상위 3개)\n",
    "* 테스트 게임: 1000\n",
    "* 베팅한 횟수: 845\n",
    "* 예측 성공한 횟수: 76\n",
    "* 시작 금액 : 2,000,000\n",
    "* 최종 금액: 11\n",
    "    ![alt text](ckelly1.jpg \"Title\")"
   ]
  },
  {
   "cell_type": "markdown",
   "metadata": {
    "slideshow": {
     "slide_type": "subslide"
    }
   },
   "source": [
    "##### 3. 프로젝트 진행 과정 > 베팅\n",
    "# C Logit X Kelly Betting\n",
    "* 테스트 게임: 1000\n",
    "* 베팅한 게임: 70\n",
    "* 예측 성공한 게임: 11\n",
    "* 시작 금액 : 2,000,000\n",
    "* 최종 금액: 3,822,575\n",
    "    ![alt text](ckelly0.jpg \"Title\")"
   ]
  },
  {
   "cell_type": "markdown",
   "metadata": {
    "slideshow": {
     "slide_type": "subslide"
    }
   },
   "source": [
    "##### 3. 프로젝트 진행 과정 > 베팅\n",
    "# C Logit X Kelly Betting (비공식)\n",
    "* 테스트 게임: 826\n",
    "* 베팅한 횟수: 196\n",
    "* 예측 성공한 횟수: 50\n",
    "* 시작 금액 : 3,000,000\n",
    "* 최대 금액 : 75,088,033\n",
    "* 최종 금액: 1,720\n",
    "    ![alt text](yongheekelly.jpg \"Title\")"
   ]
  },
  {
   "cell_type": "markdown",
   "metadata": {
    "slideshow": {
     "slide_type": "slide"
    }
   },
   "source": [
    "## 4. 결론"
   ]
  },
  {
   "cell_type": "markdown",
   "metadata": {
    "slideshow": {
     "slide_type": "subslide"
    }
   },
   "source": [
    "##### 4. 결론\n",
    "# 남은 과제\n",
    "* 데이터 구축\n",
    "    * 클라우드 상에서의 데이터 파이프라인 구축\n",
    "    * Data 추가 전처리\n",
    "        * 추가 Score 생성 / 시계열 반영\n",
    "* 예측 모델\n",
    "    * 경기 맥락을 포함하는 Classification\n",
    "    * XGBoost -> LightGBM\n",
    "    * Neural Network 활용한 Regression\n",
    "    * 예측 모델의 Ensemble\n",
    "    * ROI 자체를 Loss Function으로 하는 모델\n",
    "* 베팅 모델\n",
    "    * 다른 베팅 방식 적용\n",
    "    * 베팅의 Ensemble\n",
    "    * 강화 학습을 통한 예측 / 베팅 학습\n",
    "* 실제 활용\n",
    "    * 실제 베팅을 통한 테스팅"
   ]
  }
 ],
 "metadata": {
  "celltoolbar": "Slideshow",
  "kernelspec": {
   "display_name": "Python 3",
   "language": "python",
   "name": "python3"
  },
  "language_info": {
   "codemirror_mode": {
    "name": "ipython",
    "version": 3
   },
   "file_extension": ".py",
   "mimetype": "text/x-python",
   "name": "python",
   "nbconvert_exporter": "python",
   "pygments_lexer": "ipython3",
   "version": "3.7.0"
  },
  "rise": {
   "scroll": true
  }
 },
 "nbformat": 4,
 "nbformat_minor": 2
}
