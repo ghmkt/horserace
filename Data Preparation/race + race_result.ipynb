{
 "cells": [
  {
   "cell_type": "markdown",
   "metadata": {},
   "source": [
    "### 크롤링하여 얻은 데이터에서 서울과 부산 지역 데이터의 race와 race_result 데이터를 합치는 과정\n",
    "#### XGBoost는 돌려본 결과 변수의 양보다 데이터의 양이 많을수록 정확도가 높아졌음\n",
    "#### 따라서 서울 지역뿐만 아니라 부산 지역의 데이터도 활용하였음\n",
    "#### 또한, '경마_데이터 추가.ipynb'에서는 2012년 1월 7일부터 2017년 7월 23일까지의 경기 데이터가 있는 tistory 데이터도 추가하였으며, 동일한 경기가 중복되는 것을 피하기 위해 크롤링하여 얻은 데이터 중에서는 2017년 7월 23일 이후의 데이터만 활용"
   ]
  },
  {
   "cell_type": "code",
   "execution_count": 1,
   "metadata": {},
   "outputs": [],
   "source": [
    "# 필요한 라이브러리 import\n",
    "import pandas as pd"
   ]
  },
  {
   "cell_type": "code",
   "execution_count": 2,
   "metadata": {},
   "outputs": [],
   "source": [
    "# 용희형이 크롤링하여 얻은 csv 파일 읽기\n",
    "race_seo = pd.read_csv(r'C:\\Users\\po031\\Desktop\\seoul_race(utf-8).csv')\n",
    "race_result_seo = pd.read_csv(r'C:\\Users\\po031\\Desktop\\seoul_race_result(utf-8).csv')\n",
    "race_bu = pd.read_csv(r'C:\\Users\\po031\\Desktop\\busan_race(utf-8).csv')\n",
    "race_result_bu = pd.read_csv(r'C:\\Users\\po031\\Desktop\\busan_race_result(utf-8).csv')"
   ]
  },
  {
   "cell_type": "code",
   "execution_count": 3,
   "metadata": {},
   "outputs": [],
   "source": [
    "# date를 int로 바꾸고, 2017년 7월 23일 이후 데이터만 뽑기\n",
    "race_seo['date'] = race_seo['date'].apply(lambda x: int(x.replace('-','')))\n",
    "race_seo = race_seo[race_seo['date']>20170723]\n",
    "race_result_seo['date'] = race_result_seo['date'].apply(lambda x: int(x.replace('-','')))\n",
    "race_result_seo = race_result_seo[race_result_seo['date']>20170723]\n",
    "race_bu['date'] = race_bu['date'].apply(lambda x: int(x.replace('-','')))\n",
    "race_bu = race_bu[race_bu['date']>20170723]\n",
    "race_result_bu['date'] = race_result_bu['date'].apply(lambda x: int(x.replace('-','')))\n",
    "race_result_bu = race_result_bu[race_result_bu['date']>20170723]"
   ]
  },
  {
   "cell_type": "code",
   "execution_count": 4,
   "metadata": {},
   "outputs": [],
   "source": [
    "# date, round를 기준으로 race_result와 race 합치기\n",
    "df_seo = pd.merge(race_result_seo, race_seo, on = ['date', 'round'])\n",
    "df_bu = pd.merge(race_result_bu, race_bu, on = ['date', 'round'])"
   ]
  },
  {
   "cell_type": "code",
   "execution_count": 5,
   "metadata": {},
   "outputs": [],
   "source": [
    "# 서울과 부산 지역을 구분하기 위해 location column 추가\n",
    "df_seo['location'] = 0\n",
    "df_bu['location'] = 1"
   ]
  },
  {
   "cell_type": "code",
   "execution_count": 6,
   "metadata": {},
   "outputs": [],
   "source": [
    "# df_seo와 df_bu 합치기\n",
    "df = pd.concat([df_seo, df_bu])"
   ]
  },
  {
   "cell_type": "code",
   "execution_count": 7,
   "metadata": {},
   "outputs": [],
   "source": [
    "# 첫번째 열 제거\n",
    "df = df.drop('Unnamed: 0_x', 1)"
   ]
  },
  {
   "cell_type": "code",
   "execution_count": 8,
   "metadata": {},
   "outputs": [],
   "source": [
    "# csv 파일로 뽑기\n",
    "df.to_csv('crawling data.csv')"
   ]
  }
 ],
 "metadata": {
  "kernelspec": {
   "display_name": "Python 3",
   "language": "python",
   "name": "python3"
  },
  "language_info": {
   "codemirror_mode": {
    "name": "ipython",
    "version": 3
   },
   "file_extension": ".py",
   "mimetype": "text/x-python",
   "name": "python",
   "nbconvert_exporter": "python",
   "pygments_lexer": "ipython3",
   "version": "3.7.0"
  }
 },
 "nbformat": 4,
 "nbformat_minor": 2
}
