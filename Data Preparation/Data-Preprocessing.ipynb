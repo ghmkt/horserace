{
 "cells": [
  {
   "cell_type": "markdown",
   "metadata": {},
   "source": [
    "# Data Preprocessing"
   ]
  },
  {
   "cell_type": "markdown",
   "metadata": {},
   "source": [
    "## Race Table\n",
    "\n",
    "- 습도 정보에서 '%'를 제거\n",
    "- 경기 등급 정보에서 숫자만을 남김"
   ]
  },
  {
   "cell_type": "code",
   "execution_count": 6,
   "metadata": {
    "scrolled": true
   },
   "outputs": [
    {
     "data": {
      "text/html": [
       "<div>\n",
       "<style scoped>\n",
       "    .dataframe tbody tr th:only-of-type {\n",
       "        vertical-align: middle;\n",
       "    }\n",
       "\n",
       "    .dataframe tbody tr th {\n",
       "        vertical-align: top;\n",
       "    }\n",
       "\n",
       "    .dataframe thead th {\n",
       "        text-align: right;\n",
       "    }\n",
       "</style>\n",
       "<table border=\"1\" class=\"dataframe\">\n",
       "  <thead>\n",
       "    <tr style=\"text-align: right;\">\n",
       "      <th></th>\n",
       "      <th>humidity</th>\n",
       "      <th>humidity.1</th>\n",
       "      <th>level</th>\n",
       "      <th>race_level</th>\n",
       "    </tr>\n",
       "  </thead>\n",
       "  <tbody>\n",
       "    <tr>\n",
       "      <th>0</th>\n",
       "      <td>16%</td>\n",
       "      <td>16.0</td>\n",
       "      <td>혼4등급</td>\n",
       "      <td>4</td>\n",
       "    </tr>\n",
       "    <tr>\n",
       "      <th>1</th>\n",
       "      <td>16%</td>\n",
       "      <td>16.0</td>\n",
       "      <td>혼3등급</td>\n",
       "      <td>3</td>\n",
       "    </tr>\n",
       "    <tr>\n",
       "      <th>2</th>\n",
       "      <td>16%</td>\n",
       "      <td>16.0</td>\n",
       "      <td>혼OPEN</td>\n",
       "      <td>0</td>\n",
       "    </tr>\n",
       "    <tr>\n",
       "      <th>3</th>\n",
       "      <td>16%</td>\n",
       "      <td>16.0</td>\n",
       "      <td>국4등급</td>\n",
       "      <td>4</td>\n",
       "    </tr>\n",
       "    <tr>\n",
       "      <th>4</th>\n",
       "      <td>16%</td>\n",
       "      <td>16.0</td>\n",
       "      <td>국4등급</td>\n",
       "      <td>4</td>\n",
       "    </tr>\n",
       "  </tbody>\n",
       "</table>\n",
       "</div>"
      ],
      "text/plain": [
       "  humidity  humidity.1  level  race_level\n",
       "0      16%        16.0   혼4등급           4\n",
       "1      16%        16.0   혼3등급           3\n",
       "2      16%        16.0  혼OPEN           0\n",
       "3      16%        16.0   국4등급           4\n",
       "4      16%        16.0   국4등급           4"
      ]
     },
     "execution_count": 6,
     "metadata": {},
     "output_type": "execute_result"
    }
   ],
   "source": [
    "race[['humidity', 'humidity.1', 'level', 'race_level']].head()"
   ]
  },
  {
   "cell_type": "markdown",
   "metadata": {},
   "source": [
    "## Race Result Table 1\n",
    "\n",
    "- 몸무게 정보에서 현재 몸무게/직전 대비 변화분을 각각 추출\n",
    "- Rating 수치로부터 등급으로 변환 (한국 마사회 기준에 따름)"
   ]
  },
  {
   "cell_type": "code",
   "execution_count": 12,
   "metadata": {
    "scrolled": true
   },
   "outputs": [
    {
     "data": {
      "text/html": [
       "<div>\n",
       "<style scoped>\n",
       "    .dataframe tbody tr th:only-of-type {\n",
       "        vertical-align: middle;\n",
       "    }\n",
       "\n",
       "    .dataframe tbody tr th {\n",
       "        vertical-align: top;\n",
       "    }\n",
       "\n",
       "    .dataframe thead th {\n",
       "        text-align: right;\n",
       "    }\n",
       "</style>\n",
       "<table border=\"1\" class=\"dataframe\">\n",
       "  <thead>\n",
       "    <tr style=\"text-align: right;\">\n",
       "      <th></th>\n",
       "      <th>weight</th>\n",
       "      <th>raw_weight</th>\n",
       "      <th>weight_diff</th>\n",
       "      <th>rating</th>\n",
       "      <th>horse_level_num</th>\n",
       "    </tr>\n",
       "  </thead>\n",
       "  <tbody>\n",
       "    <tr>\n",
       "      <th>0</th>\n",
       "      <td>456(5)</td>\n",
       "      <td>456.0</td>\n",
       "      <td>5.0</td>\n",
       "      <td>33.0</td>\n",
       "      <td>5.0</td>\n",
       "    </tr>\n",
       "    <tr>\n",
       "      <th>1</th>\n",
       "      <td>460(10)</td>\n",
       "      <td>460.0</td>\n",
       "      <td>10.0</td>\n",
       "      <td>27.0</td>\n",
       "      <td>5.0</td>\n",
       "    </tr>\n",
       "    <tr>\n",
       "      <th>2</th>\n",
       "      <td>503(28)</td>\n",
       "      <td>503.0</td>\n",
       "      <td>28.0</td>\n",
       "      <td>26.0</td>\n",
       "      <td>5.0</td>\n",
       "    </tr>\n",
       "    <tr>\n",
       "      <th>3</th>\n",
       "      <td>491(7)</td>\n",
       "      <td>491.0</td>\n",
       "      <td>7.0</td>\n",
       "      <td>31.0</td>\n",
       "      <td>5.0</td>\n",
       "    </tr>\n",
       "    <tr>\n",
       "      <th>4</th>\n",
       "      <td>491(1)</td>\n",
       "      <td>491.0</td>\n",
       "      <td>1.0</td>\n",
       "      <td>32.0</td>\n",
       "      <td>5.0</td>\n",
       "    </tr>\n",
       "  </tbody>\n",
       "</table>\n",
       "</div>"
      ],
      "text/plain": [
       "    weight  raw_weight  weight_diff  rating  horse_level_num\n",
       "0   456(5)       456.0          5.0    33.0              5.0\n",
       "1  460(10)       460.0         10.0    27.0              5.0\n",
       "2  503(28)       503.0         28.0    26.0              5.0\n",
       "3   491(7)       491.0          7.0    31.0              5.0\n",
       "4   491(1)       491.0          1.0    32.0              5.0"
      ]
     },
     "execution_count": 12,
     "metadata": {},
     "output_type": "execute_result"
    }
   ],
   "source": [
    "race_result[['weight', 'raw_weight', 'weight_diff', 'rating', 'horse_level_num']].head()"
   ]
  },
  {
   "cell_type": "markdown",
   "metadata": {},
   "source": [
    "## Race Result Table 2\n",
    "\n",
    "- 직전 경기 결과를 담은 column들을 생성(이전 순위, 이전 기록 속도, 최근 1년 이내 단승식 승률 등)\n",
    "- 또한 Cure Table에서 최근 1달 이내 진료 여부 더미 변수를 추출함"
   ]
  },
  {
   "cell_type": "code",
   "execution_count": 16,
   "metadata": {},
   "outputs": [
    {
     "data": {
      "text/html": [
       "<div>\n",
       "<style scoped>\n",
       "    .dataframe tbody tr th:only-of-type {\n",
       "        vertical-align: middle;\n",
       "    }\n",
       "\n",
       "    .dataframe tbody tr th {\n",
       "        vertical-align: top;\n",
       "    }\n",
       "\n",
       "    .dataframe thead th {\n",
       "        text-align: right;\n",
       "    }\n",
       "</style>\n",
       "<table border=\"1\" class=\"dataframe\">\n",
       "  <thead>\n",
       "    <tr style=\"text-align: right;\">\n",
       "      <th></th>\n",
       "      <th>rank</th>\n",
       "      <th>velocity</th>\n",
       "      <th>prev1_rank</th>\n",
       "      <th>prev1_velo</th>\n",
       "      <th>danwin1yr</th>\n",
       "      <th>new_distance</th>\n",
       "      <th>cure_in_1m</th>\n",
       "    </tr>\n",
       "  </thead>\n",
       "  <tbody>\n",
       "    <tr>\n",
       "      <th>0</th>\n",
       "      <td>1</td>\n",
       "      <td>NaN</td>\n",
       "      <td>12</td>\n",
       "      <td>14.067995</td>\n",
       "      <td>0.166667</td>\n",
       "      <td>0</td>\n",
       "      <td>0</td>\n",
       "    </tr>\n",
       "    <tr>\n",
       "      <th>1</th>\n",
       "      <td>2</td>\n",
       "      <td>NaN</td>\n",
       "      <td>6</td>\n",
       "      <td>14.938489</td>\n",
       "      <td>0.000000</td>\n",
       "      <td>0</td>\n",
       "      <td>0</td>\n",
       "    </tr>\n",
       "    <tr>\n",
       "      <th>2</th>\n",
       "      <td>3</td>\n",
       "      <td>NaN</td>\n",
       "      <td>2</td>\n",
       "      <td>15.625000</td>\n",
       "      <td>0.000000</td>\n",
       "      <td>0</td>\n",
       "      <td>0</td>\n",
       "    </tr>\n",
       "    <tr>\n",
       "      <th>3</th>\n",
       "      <td>4</td>\n",
       "      <td>NaN</td>\n",
       "      <td>1</td>\n",
       "      <td>16.339869</td>\n",
       "      <td>0.250000</td>\n",
       "      <td>0</td>\n",
       "      <td>0</td>\n",
       "    </tr>\n",
       "    <tr>\n",
       "      <th>4</th>\n",
       "      <td>5</td>\n",
       "      <td>NaN</td>\n",
       "      <td>7</td>\n",
       "      <td>NaN</td>\n",
       "      <td>0.083333</td>\n",
       "      <td>1</td>\n",
       "      <td>1</td>\n",
       "    </tr>\n",
       "  </tbody>\n",
       "</table>\n",
       "</div>"
      ],
      "text/plain": [
       "  rank  velocity prev1_rank  prev1_velo  danwin1yr  new_distance  cure_in_1m\n",
       "0    1       NaN         12   14.067995   0.166667             0           0\n",
       "1    2       NaN          6   14.938489   0.000000             0           0\n",
       "2    3       NaN          2   15.625000   0.000000             0           0\n",
       "3    4       NaN          1   16.339869   0.250000             0           0\n",
       "4    5       NaN          7         NaN   0.083333             1           1"
      ]
     },
     "execution_count": 16,
     "metadata": {},
     "output_type": "execute_result"
    }
   ],
   "source": [
    "race_result[['rank', 'velocity', 'prev1_rank', 'prev1_velo', 'danwin1yr', 'new_distance', 'cure_in_1m']].head()"
   ]
  },
  {
   "cell_type": "code",
   "execution_count": 15,
   "metadata": {},
   "outputs": [
    {
     "data": {
      "text/plain": [
       "Index(['date', 'round', 'url', 'name', 'code', 'rank', 'lane', 'sex', 'age',\n",
       "       'jockey_w', 'rating', 'jockey', 'difference', 'weight', 'dandivi',\n",
       "       'yeondivi', 's1fr', 'c1r', 'c2r', 'c3r', 'c4r', 'g1fr', 's1f', 'c1',\n",
       "       'c2', 'c3', 'c4', 'g3f', 'g1f', 'record', 'cure_in_1m', 'weight_diff',\n",
       "       'raw_weight', 'weight_added', 'distance', 'velocity', 'prev1_rank',\n",
       "       'prev2_rank', 'prev3_rank', 'prev1_velo', 'prev2_velo', 'prev3_velo',\n",
       "       'horse_level_num', 'year', 'month', 'choice', 'choice2', 'choice3',\n",
       "       'danwin1yr', 'bokwin1yr', 'samwin1yr', 'jdanwin1yr', 'jbokwin1yr',\n",
       "       'jsamwin1yr', 'jprev1_rank', 'jprev2_rank', 'jprev3_rank', 'humidity',\n",
       "       'race_level', 'new_distance', 'weather'],\n",
       "      dtype='object')"
      ]
     },
     "execution_count": 15,
     "metadata": {},
     "output_type": "execute_result"
    }
   ],
   "source": [
    "race_result.columns"
   ]
  },
  {
   "cell_type": "markdown",
   "metadata": {},
   "source": [
    "## Tistory Blog Data\n",
    "\n",
    "- Tistory의 블로거가 2012년 1월부터 2017년 7월까지의 데이터를 크롤링한 것을 SQLite DB로 공유하고 있었음\n",
    "- Python 모듈 중 sqlite3를 사용하면 SQLite DB를 조작할 수 있음\n",
    "- 이를 활용해 Blog 데이터와 우리 팀의 데이터를 Aggregate 하였음"
   ]
  },
  {
   "cell_type": "code",
   "execution_count": null,
   "metadata": {},
   "outputs": [],
   "source": [
    "import sqlite3\n",
    "\n",
    "con = sqlite3.connect(r'C:\\Users\\myeon\\Desktop\\Data Science\\project\\db\\race.db')\n",
    "cursor = con.cursor()\n",
    "\n",
    "cursor.execute(\"SELECT total_hn_bu.date, total_hn_bu.no, total_hn_bu.horse_no, total_hn_bu.distance, \\\n",
    "                total_hn_bu.race_time, \\\n",
    "                total_hn_bu.순위, grade.등급 FROM total_hn_bu, grade \\\n",
    "                WHERE total_hn_bu.horse_weight <> 0 AND \\\n",
    "                grade.horse_no = total_hn_bu.horse_no AND \\\n",
    "                grade.시작일자 <= total_hn_bu.date AND grade.종료일자 >= total_hn_bu.date ORDER BY total_hn_bu.horse_no, \\\n",
    "                total_hn_bu.date\")\n",
    "\n",
    "tistory = pd.DataFrame(cursor.fetchall())"
   ]
  }
 ],
 "metadata": {
  "kernelspec": {
   "display_name": "Python 3",
   "language": "python",
   "name": "python3"
  },
  "language_info": {
   "codemirror_mode": {
    "name": "ipython",
    "version": 3
   },
   "file_extension": ".py",
   "mimetype": "text/x-python",
   "name": "python",
   "nbconvert_exporter": "python",
   "pygments_lexer": "ipython3",
   "version": "3.7.0"
  }
 },
 "nbformat": 4,
 "nbformat_minor": 2
}
